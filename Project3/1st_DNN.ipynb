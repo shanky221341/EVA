{
  "nbformat": 4,
  "nbformat_minor": 0,
  "metadata": {
    "colab": {
      "name": "1st DNN.ipynb",
      "version": "0.3.2",
      "provenance": [],
      "collapsed_sections": []
    },
    "kernelspec": {
      "name": "python3",
      "display_name": "Python 3"
    },
    "accelerator": "GPU"
  },
  "cells": [
    {
      "cell_type": "markdown",
      "metadata": {
        "id": "aNyZv-Ec52ot",
        "colab_type": "text"
      },
      "source": [
        "# This notebook trains the convolution neural network on MNIST dataset to achieve state of the art result with minimal set of parameters"
      ]
    },
    {
      "cell_type": "code",
      "metadata": {
        "id": "3m3w1Cw49Zkt",
        "colab_type": "code",
        "colab": {}
      },
      "source": [
        "# Uncomment and run the line below if you don't have keras and hvplot installed\n",
        "# !pip install -q keras\n",
        "# !pip install hvplot\n",
        "# import keras"
      ],
      "execution_count": 0,
      "outputs": []
    },
    {
      "cell_type": "markdown",
      "metadata": {
        "id": "yOeqea2m5FwS",
        "colab_type": "text"
      },
      "source": [
        "## Import the necessary packages"
      ]
    },
    {
      "cell_type": "code",
      "metadata": {
        "id": "Eso6UHE080D4",
        "colab_type": "code",
        "outputId": "087938fa-52a0-4c8a-942b-fd6903e7bb09",
        "colab": {
          "base_uri": "https://localhost:8080/",
          "height": 76
        }
      },
      "source": [
        "import numpy as np\n",
        "import keras\n",
        "from keras.models import Sequential\n",
        "from keras.layers import Dense, Dropout, Activation, Flatten, Add\n",
        "from keras.layers import Convolution2D, MaxPooling2D\n",
        "from keras.utils import np_utils\n",
        "from keras.datasets import mnist\n",
        "from matplotlib import pyplot as plt\n",
        "from collections import Counter\n",
        "import holoviews as hv \n",
        "from random import sample \n",
        "import random\n",
        "hv.extension('matplotlib')"
      ],
      "execution_count": 17,
      "outputs": [
        {
          "output_type": "stream",
          "text": [
            "/usr/local/lib/python3.6/dist-packages/param/parameterized.py:2811: UserWarning: Config option `use_jedi` not recognized by `IPCompleter`.\n",
            "  return inst.__call__(*args,**params)\n"
          ],
          "name": "stderr"
        },
        {
          "output_type": "display_data",
          "data": {
            "text/html": [
              "\n",
              "<link rel=\"stylesheet\" href=\"https://code.jquery.com/ui/1.10.4/themes/smoothness/jquery-ui.css\">\n",
              "<style>div.hololayout {\n",
              "  display: flex;\n",
              "  align-items: center;\n",
              "  margin: 0;\n",
              "}\n",
              "\n",
              "div.holoframe {\n",
              "  width: 75%;\n",
              "}\n",
              "\n",
              "div.holowell {\n",
              "  display: flex;\n",
              "  align-items: center;\n",
              "}\n",
              "\n",
              "form.holoform {\n",
              "  background-color: #fafafa;\n",
              "  border-radius: 5px;\n",
              "  overflow: hidden;\n",
              "  padding-left: 0.8em;\n",
              "  padding-right: 0.8em;\n",
              "  padding-top: 0.4em;\n",
              "  padding-bottom: 0.4em;\n",
              "  box-shadow: inset 0 1px 1px rgba(0, 0, 0, 0.05);\n",
              "  margin-bottom: 20px;\n",
              "  border: 1px solid #e3e3e3;\n",
              "}\n",
              "\n",
              "div.holowidgets {\n",
              "  padding-right: 0;\n",
              "  width: 25%;\n",
              "}\n",
              "\n",
              "div.holoslider {\n",
              "  min-height: 0 !important;\n",
              "  height: 0.8em;\n",
              "  width: 100%;\n",
              "}\n",
              "\n",
              "div.holoformgroup {\n",
              "  padding-top: 0.5em;\n",
              "  margin-bottom: 0.5em;\n",
              "}\n",
              "\n",
              "div.hologroup {\n",
              "  padding-left: 0;\n",
              "  padding-right: 0.8em;\n",
              "  width: 100%;\n",
              "}\n",
              "\n",
              ".holoselect {\n",
              "  width: 92%;\n",
              "  margin-left: 0;\n",
              "  margin-right: 0;\n",
              "}\n",
              "\n",
              ".holotext {\n",
              "  padding-left:  0.5em;\n",
              "  padding-right: 0;\n",
              "  width: 100%;\n",
              "}\n",
              "\n",
              ".holowidgets .ui-resizable-se {\n",
              "  visibility: hidden\n",
              "}\n",
              "\n",
              ".holoframe > .ui-resizable-se {\n",
              "  visibility: hidden\n",
              "}\n",
              "\n",
              ".holowidgets .ui-resizable-s {\n",
              "  visibility: hidden\n",
              "}\n",
              "\n",
              "\n",
              "/* CSS rules for noUISlider based slider used by JupyterLab extension  */\n",
              "\n",
              ".noUi-handle {\n",
              "  width: 20px !important;\n",
              "  height: 20px !important;\n",
              "  left: -5px !important;\n",
              "  top: -5px !important;\n",
              "}\n",
              "\n",
              ".noUi-handle:before, .noUi-handle:after {\n",
              "  visibility: hidden;\n",
              "  height: 0px;\n",
              "}\n",
              "\n",
              ".noUi-target {\n",
              "  margin-left: 0.5em;\n",
              "  margin-right: 0.5em;\n",
              "}\n",
              "</style>\n",
              "\n",
              "\n",
              "<div class=\"logo-block\">\n",
              "<img src='data:image/png;base64,iVBORw0KGgoAAAANSUhEUgAAAEAAAABACAYAAACqaXHeAAAABHNCSVQICAgIfAhkiAAAAAlwSFlz\n",
              "AAAB+wAAAfsBxc2miwAAABl0RVh0U29mdHdhcmUAd3d3Lmlua3NjYXBlLm9yZ5vuPBoAAA6zSURB\n",
              "VHic7ZtpeFRVmsf/5966taWqUlUJ2UioBBJiIBAwCZtog9IOgjqACsogKtqirT2ttt069nQ/zDzt\n",
              "tI4+CrJIREFaFgWhBXpUNhHZQoKBkIUASchWla1S+3ar7r1nPkDaCAnZKoQP/D7mnPOe9/xy76n3\n",
              "nFSAW9ziFoPFNED2LLK5wcyBDObkb8ZkxuaoSYlI6ZcOKq1eWFdedqNzGHQBk9RMEwFAASkk0Xw3\n",
              "ETacDNi2vtvc7L0ROdw0AjoSotQVkKSvHQz/wRO1lScGModBFbDMaNRN1A4tUBCS3lk7BWhQkgpD\n",
              "lG4852/+7DWr1R3uHAZVQDsbh6ZPN7CyxUrCzJMRouusj0ipRwD2uKm0Zn5d2dFwzX1TCGhnmdGo\n",
              "G62Nna+isiUqhkzuKrkQaJlPEv5mFl2fvGg2t/VnzkEV8F5ioioOEWkLG86fvbpthynjdhXYZziQ\n",
              "x1hC9J2NFyi8vCTt91Fh04KGip0AaG9zuCk2wQCVyoNU3Hjezee9bq92duzzTmxsRJoy+jEZZZYo\n",
              "GTKJ6SJngdJqAfRzpze0+jHreUtPc7gpBLQnIYK6BYp/uGhw9YK688eu7v95ysgshcg9qSLMo3JC\n",
              "4jqLKQFBgdKDPoQ+Pltb8dUyQLpeDjeVgI6EgLIQFT5tEl3rn2losHVsexbZ3EyT9wE1uGdkIPcy\n",
              "BGxn8QUq1QrA5nqW5i2tLqvrrM9NK6AdkVIvL9E9bZL/oyfMVd/jqvc8LylzRBKDJSzIExwhQzuL\n",
              "QYGQj4rHfFTc8mUdu3E7yoLtbTe9gI4EqVgVkug2i5+uXGo919ixbRog+3fTbQ8qJe4ZOYNfMoTI\n",
              "OoshUNosgO60AisX15aeI2PSIp5KiFLI9ubb1vV3Qb2ltwLakUCDAkWX7/nHKRmmGIl9VgYsUhJm\n",
              "2NXjKYADtM1ygne9QQDIXlk49FBstMKx66D1v4+XuQr7vqTe0VcBHQlRWiOCbmmSYe2SqtL6q5rJ\n",
              "zsTb7lKx3FKOYC4DoqyS/B5bvLPxvD9Qtf6saxYLQGJErmDOdOMr/zo96km1nElr8bmPOBwI9COv\n",
              "HnFPRIwmkSOv9kcAS4heRsidOkpeWBgZM+UBrTFAXNYL5Vf2ii9c1trNzpYdaoVil3WIc+wdk+gQ\n",
              "noie3ecCcxt9ITcLAPWt/laGEO/9U6PmzZkenTtsSMQ8uYywJVW+grCstAvCIaAdArAsIWkRDDs/\n",
              "KzLm2YcjY1Lv0UdW73HabE9n6V66cxSzfEmuJssTpKGVp+0vHq73FwL46eOjpMpbRAnNmJFrGJNu\n",
              "Ukf9Yrz+3rghiumCKNXXWPhLYcjxGsIpoCMsIRoFITkW8AuyM8jC1+/QLx4bozCEJIq38+1rtpR6\n",
              "V/yzb8eBlRb3fo5l783N0CWolAzJHaVNzkrTzlEp2bQ2q3TC5gn6wpnoQAmwSiGh2GitnTmVMc5O\n",
              "UyfKWUKCIsU7+fZDKwqdT6DDpvkzAX4/+AMFjk0tDp5GRXLpQ2MUmhgDp5gxQT8+Y7hyPsMi8uxF\n",
              "71H0oebujHALECjFKaW9Lm68n18wXp2kVzIcABytD5iXFzg+WVXkegpAsOOYziqo0OkK76GyquC3\n",
              "ltZAzMhhqlSNmmWTE5T6e3IN05ITFLM4GdN0vtZ3ob8Jh1NAKXFbm5PtLU/eqTSlGjkNAJjdgn/N\n",
              "aedXa0tdi7+t9G0FIF49rtMSEgAs1kDLkTPO7ebm4IUWeyh1bKomXqlgMG6kJmHcSM0clYLJ8XtR\n",
              "1GTnbV3F6I5wCGikAb402npp1h1s7LQUZZSMIfALFOuL3UUrfnS8+rez7v9qcold5tilgHbO1fjK\n",
              "9ubb17u9oshxzMiUBKXWqJNxd+fqb0tLVs4lILFnK71H0Ind7uiPgACVcFJlrb0tV6DzxqqTIhUM\n",
              "CwDf1/rrVhTa33/3pGPxJYdQ2l2cbgVcQSosdx8uqnDtbGjh9SlDVSMNWhlnilfqZk42Th2ZpLpf\n",
              "xrHec5e815zrr0dfBZSwzkZfqsv+1FS1KUknUwPARVvItfKUY+cn57yP7qv07UE3p8B2uhUwLk09\n",
              "e0SCOrK+hbdYHYLjRIl71wWzv9jpEoeOHhGRrJAzyEyNiJuUqX0g2sBN5kGK6y2Blp5M3lsB9Qh4\n",
              "y2Ja6x6+i0ucmKgwMATwhSjdUu49tKrQ/pvN5d53ml2CGwCmJipmKjgmyuaXzNeL2a0AkQ01Th5j\n",
              "2DktO3Jyk8f9vcOBQHV94OK+fPumJmvQHxJoWkaKWq9Vs+yUsbq0zGT1I4RgeH2b5wef7+c7bl8F\n",
              "eKgoHVVZa8ZPEORzR6sT1BzDUAD/d9F78e2Tzv99v8D+fLVTqAKAsbGamKey1Mt9Ann4eH3gTXTz\n",
              "idWtAJ8PQWOk7NzSeQn/OTHDuEikVF1R4z8BQCy+6D1aWRfY0tTGG2OM8rRoPaeIj5ZHzJxszElN\n",
              "VM8K8JS5WOfv8mzRnQAKoEhmt8gyPM4lU9SmBK1MCQBnW4KONT86v1hZ1PbwSXPw4JWussVjtH9Y\n",
              "NCoiL9UoH/6PSu8jFrfY2t36erQHXLIEakMi1SydmzB31h3GGXFDFNPaK8Rme9B79Ixrd0WN+1ij\n",
              "NRQ/doRmuFLBkHSTOm5GruG+pFjFdAmorG4IXH1Qua6ASniclfFtDYt+oUjKipPrCQB7QBQ2lrgP\n",
              "fFzm+9XWUtcqJ3/5vDLDpJ79XHZk3u8nGZ42qlj1+ydtbxysCezrydp6ugmipNJ7WBPB5tydY0jP\n",
              "HaVNzs3QzeE4ZpTbI+ZbnSFPbVOw9vsfnVvqWnirPyCNGD08IlqtYkh2hjZ5dErEQzoNm+6ykyOt\n",
              "Lt5/PQEuSRRKo22VkydK+vvS1XEKlhCJAnsqvcVvH7f/ZU2R67eXbMEGAMiIV5oWZWiWvz5Fv2xG\n",
              "sjqNJQRvn3Rs2lji/lNP19VjAQDgD7FHhujZB9OGqYxRkZxixgRDVlqS6uEOFaJUVu0rPFzctrnF\n",
              "JqijImVp8dEKVWyUXDk92zAuMZ6bFwpBU1HrOw6AdhQgUooChb0+ItMbWJitSo5Ws3IAOGEOtL53\n",
              "0vHZih9sC4vtofZ7Qu6523V/fmGcds1TY3V36pUsBwAbSlxnVh2xLfAD/IAIMDf7XYIkNmXfpp2l\n",
              "18rkAJAy9HKFaIr/qULkeQQKy9zf1JgDB2uaeFNGijo5QsUyacNUUTOnGO42xSnv4oOwpDi1zYkc\n",
              "efUc3I5Gk6PhyTuVKaOGyLUAYPGIoY9Pu/atL/L92+4q9wbflRJ2Trpm/jPjdBtfnqB/dIThcl8A\n",
              "KG7hbRuKnb8qsQsVvVlTrwQAQMUlf3kwJI24Z4JhPMtcfng5GcH49GsrxJpGvvHIaeem2ma+KSjQ\n",
              "lIwUdYyCY8j4dE1KzijNnIP2llF2wcXNnsoapw9XxsgYAl6k+KzUXbi2yP3KR2ecf6z3BFsBICdW\n",
              "nvnIaG3eHybqX7vbpEqUMT+9OL4Qpe8VON7dXuFd39v19FoAABRVePbGGuXTszO0P7tu6lghUonE\n",
              "llRdrhArLvmKdh9u29jcFiRRkfLUxBiFNiqSU9icoZQHo5mYBI1MBgBH6wMNb+U7Pnw337H4gi1Y\n",
              "ciWs+uks3Z9fztUvfzxTm9Ne8XXkvQLHNytOOZeiD4e0PgkAIAYCYknKUNUDSXEKzdWNpnil7r4p\n",
              "xqkjTarZMtk/K8TQ6Qve78qqvXurGwIJqcOUKfUWHsm8KGvxSP68YudXq4pcj39X49uOK2X142O0\n",
              "Tz5/u/7TVybqH0rSya6ZBwD21/gubbrgWdDgEOx9WUhfBaC2ibcEBYm7a7x+ukrBMNcEZggyR0TE\n",
              "T8zUPjikQ4VosQZbTpS4vqizBKvqmvjsqnpfzaZyx9JPiz1/bfGKdgD45XB1zoIMzYbfTdS/NClB\n",
              "Gct0USiY3YL/g0LHy/uq/Ef6uo5+n0R/vyhp17Klpge763f8rMu6YU/zrn2nml+2WtH+Z+5IAAFc\n",
              "2bUTdTDOSNa9+cQY7YLsOIXhevEkCvzph7a8laecz/Un/z4/Ae04XeL3UQb57IwU9ZDr9UuKVajv\n",
              "nxp1+1UVIo/LjztZkKH59fO3G/JemqCfmaCRqbqbd90ZZ8FfjtkfAyD0J/9+C2h1hDwsSxvGjNDc\n",
              "b4zk5NfrSwiQblLHzZhg+Jf4aPlUwpDqkQqa9nimbt1/TDH8OitGMaQnj+RJS6B1fbF7SY1TqO5v\n",
              "/v0WAADl1f7zokgS7s7VT2DZ7pegUjBM7mjtiDZbcN4j0YrHH0rXpCtY0qPX0cVL0rv5jv/ZXend\n",
              "0u/EESYBAFBU4T4Qa5TflZOhTe7pmKpaP8kCVUVw1+yhXfJWvn1P3hnXi33JsTN6PnP3hHZ8Z3/h\n",
              "aLHzmkNPuPj7Bc/F/Q38CwjTpSwQXgE4Vmwry9tpfq/ZFgqFMy4AVDtCvi8rvMvOmv0N4YwbVgEA\n",
              "sPM72/KVnzfspmH7HQGCRLG2yL1+z8XwvPcdCbsAANh+xPzstgMtxeGKt+6MK3/tacfvwhWvIwMi\n",
              "oKEBtm0H7W+UVfkc/Y1V0BhoPlDr/w1w/eu1vjIgAgDg22OtX6/eYfnEz/focrZTHAFR+PSs56/7\n",
              "q32nwpjazxgwAQCwcU/T62t3WL7r6/jVRa6/byp1rei+Z98ZUAEAhEPHPc8fKnTU9nbgtnOe8h0l\n",
              "9hcGIqmODLQAHCy2Xti6v/XNRivf43f4fFvIteu854+VHnR7q9tfBlwAAGz+pnndB9vM26UebAe8\n",
              "SLHujPOTPVW+rwY+sxskAAC2HrA8t2Vvc7ffP1r9o+vwR2dcr92InIAbKKC1FZ5tB1tf+/G8p8sv\n",
              "N/9Q5zd/XR34LYCwV5JdccMEAMDBk45DH243r/X4xGvqxFa/GNpS7n6rwOwNWwHVE26oAADYurf1\n",
              "zx/utOzt+DMKYM0p17YtZZ5VNzqfsB2HewG1WXE8PoZ7gOclbTIvynZf9JV+fqZtfgs/8F/Nu5rB\n",
              "EIBmJ+8QRMmpU7EzGRsf2FzuePqYRbzh/zE26EwdrT10f6r6o8HOYzCJB9Dpff8tbnGLG8L/A/WE\n",
              "roTBs2RqAAAAAElFTkSuQmCC'\n",
              "     style='height:25px; border-radius:12px; display: inline-block; float: left; vertical-align: middle'></img>\n",
              "\n",
              "\n",
              "\n",
              "\n",
              "  <img src='data:image/png;base64,iVBORw0KGgoAAAANSUhEUgAAACAAAAAgCAYAAABzenr0AAAABHNCSVQICAgIfAhkiAAAAAlwSFlz\n",
              "AAAFMAAABTABZarKtgAAABl0RVh0U29mdHdhcmUAd3d3Lmlua3NjYXBlLm9yZ5vuPBoAAArNSURB\n",
              "VFiFnVd5VFNXGv/ee0kgGyQhbFoXIKCFYEXEDVErTucMoKUOWA/VLsNSLPQgFTOdyrHPiIp1lFIQ\n",
              "OlaPShEG3EpPcQmISCuV1bQ1CLKIULeQhJA9JO+9+UMT0x5aPfOdc895373f/e7v/t537/ddBF5Q\n",
              "JBIJl81mJwCACEVRQBCEQhAEAQCgnghCURRCkmS7Wq2+WlJSYn0Rv8jzDHAcD0EQJIVGo5mFQuGF\n",
              "jIyMu39kq1KpkOrq6gU6nS6aIAiGzWY7VVBQ0P9/AcjNzWXy+fxcOp2uiY+Przm0d6+n8dblv/Fo\n",
              "kzM4SzYfPlRePvFnjnt6ehh1dXVv2mw2nlar/byoqMj8wgBwHBchCJIZEhJSeu1yHVi7vtu02t8+\n",
              "NykQ7BMWoOUMhXQsXLv5IQAwSJJEEASxcDicoeTk5DtCoZBy9XX69Gnv3t7ebJIky3EcH3guAKlU\n",
              "GoGiaOKWLVsOvhs7/9XXPMde3/IyIFbMnaPDuD5AUdQuOf2XlD0npTExMWYAgNbWVpZcLg8xGAzB\n",
              "JEnSvby82tPT052LaTQatLy8fBtJkt/s3Lnz5h8CwHFcRKPRNu/YsePAjh072KTs0IGCxRg8RgUB\n",
              "TGpSx6cmHgMAfNqN6Xa1GvJ/D35gYAAViURkcXHxUrPZHDRv3rxv4uLiDI7xPXv2bLdYLBUFBQWD\n",
              "jj7M8ZGbm8tkMpmSrKysQiaTScXGxtpqL7dManT6tcu5mgEWWJyOhicozpk+c3NsbKzNFcBbWWEf\n",
              "1Td9/upA30i3ZJv0h8bGxiSFQmFcuHDhOACAWCy+0d3dvX3lypUtzc3N9t8AiIuLk4SEhByLiooy\n",
              "AgAcO3ZsNlPgH3Cttb35JZo+bCYXIQAA9MDiUW7sWS1KN687w6Mera2twa2trfMvXboUOS28Pyb1\n",
              "U08McRtf/sXBSmt5cc35pqamVQqFwhoZGallMpnU/fv3e7RaberVq1d/AABAn1IfQqfTNRs3blQB\n",
              "AFy+fJk7Nja2XCKRnD3dNSorusPq6NfTPR+gPiEEoLRFXO1tS2+zavv27ReftjNttyr0S1/j0rUP\n",
              "PEJQwNwQYGgAACQSyXmNRhMtk8lYAAApKSlKDMP0+fn5QU4ACIKkxMfH1zjYuHnz5uspKSlOfdX7\n",
              "u68fvOePcCzKQR4YVCgATGfa/F3pnzaHWOAXSDyaMCqH2+r8VXErP3D+snXr1tV2dXW94dATExOr\n",
              "6XT6JgAAVCKRcDEMM4WHh9sAAHJyUqNu//wDymKx7AAAVVVVPiaTKXxByrYMvBsxEMSTwPXhuL+8\n",
              "e/fu9fv371+flvbemogYNz+TnsBOFEwMFO8/KzEYDKFVVVX+AAChoaGT7u7ud48ePRro0DEMs+bl\n",
              "5bFRNpud4O3tfdGBzq5uy/5wTUPM/q2zC9atmbVqeHg4Pi0t7WxGRoZFH5rw76I7LI8HqHfwPL7d\n",
              "rfVagzw1NfW81t4ePUfsP/OrnWZ6fPSuUqFQSEkkkrOjo6OvuQR5q0ajiXLoPj4+lzgcTjwKACLH\n",
              "9SqXy2kzhBO8haGo+UA2wZW+p880DxeveGt9aHx9fT09ctlq3sC0NT9e6xsbjuZblSxl7wKtVotM\n",
              "m6PnXvlmZJBtX91CEMQsxyJsNlteXl4udugIghAajQYFAEhPTx9AEGQOimGY8y4oLt63KlJkdB4t\n",
              "P282Z/c/dPrDH04ktJ9P2tfWXP3+2o1vHzunEp6Xq0lsGt08KzUrcSGTQ3n3XeefLCs5UqnT6Rap\n",
              "VCoEACA7O/snvV4f5gJooLa2NsihoygKKEVRzquTND2OCpttGXdG1tOxwOlgzdvE9v30rV+m3W5I\n",
              "2jfJNQmLH85QUUzPNTwvkAx0+vVGhq2/VV9fT+dyuZ01NTXOXQOA3fGxevXq2waDYY5r8KIoij5b\n",
              "jzB5Cz2oKdOo0erOm+1tVuVtBMZXElNMRJR1fvvjx9iPLQ/RjpuB0Xu/Vp7YmH1864YNG3oNBkPw\n",
              "VD7mzp1rJUnSzZUBmqsBggAgGFC/n6jVA+3WoN3tu1Gg39cg2tEx1Cg3CIJHsclxnl2HRorMN8Z0\n",
              "fRW+vr7GJ36Q56Z5h9BIknzGAMJWtvdQYs0EZe3/FSwqk5tpXEMb1JoYD+n8xRdQJl/fMPEgzKhS\n",
              "L40KCD7lGzg92qIyovpb3y/msT2un2psvFpWVvYyl8vtc1nDSXFXV5c7iqLOtEyS5LNBAADfWeKm\n",
              "Ly4uuvR1++sfv51/P5sfnHm2/Iy+mBmwsaHJbpt+Q0jHSS7TZ/PSNVkNJ/973OxtemD1s91CPb12\n",
              "h9MfvZsk5meo1eqo5ORkxTNWn7HR1tY2l8PhOAsUiqIolCRJcETtv/61qzNySYK5trZ2TCgUUiwW\n",
              "S1FSUhLR+bA/kAzwXcAbHa/cFhrTXrJ/v+7IkSPu3Je4Xm5eboJv2wba5QbO5fQwxhsP679Y+nFO\n",
              "jgAAoKSkJILFYjnBGI1G0YYNGwYBnqRoiqIQlKKojurq6gUAAAKBgKQoiuGYkJWVpTCZTOKmI1Xd\n",
              "HwnDcm+cOnOMw+H0FxYWbqpvqv/r9EV+bky+O+/QoUPiqJRt9JphTLFHbKBCR87tWL9EPN9oNIZn\n",
              "ZWUpXHaMCQQCEgCgsrIyEgBuoGq1+qpOp4t2GPH5/BvFxcVLHXpgYGDD8ePH/56Xl2cCAMjMzOxP\n",
              "S0s7pWfow4RCbz/fAF9RT0+P9yeffHJySSqev+9nxLD1FaAlTR8vlJ8vxxzsFhUVLRMIBB0OvwaD\n",
              "YRlFUdfQkpISK0EQ9J6eHgYAQEZGxl2z2Rw0MjJCBwBITk5+xOVyfzpw4ECSw5lQKKQIbxtJm4EN\n",
              "8eZ7jPz0oNv+dK5FG/jq54eH+IFr/S1KabBy0UerAvI+++wzD4vFEpCWljYEACCTyVh2ux3FcXwS\n",
              "BQCw2WxVdXV1bzrQRURE1FVVVTn1zMzM/pkzZ35/9OjRd0pLS19RqVQIy4/tCwDgOcPTQvFQEQBA\n",
              "aWnpK0ERK2LbyVllN341GUJ4YDu8zD5bKyur7O+85tx9Z2fnO1ar9QjA04KkpaVFs2LFir8olcq7\n",
              "YWFhJpFINNnX16drbGyMjY6Ovg0AIBaLjcuXL5d3d3d7XbhwIW704b3F479MeD1qVfJ5Og/bvb4R\n",
              "LwaDMZabm9uwflNa/z/3HOIv5NsDEK7XS7FeevXPvYNLvm5S/GglCK5KpZorlUobXE8g5ObmMqVS\n",
              "6UG1Wu1BURSHoijOiRMnwgoLC7coFAqBo+9Fm0KhEKStmvvto3TeucFN7pVJYbytarXaQyqVHsRx\n",
              "3N15TF1BuBaljr4rV66wOzo63mAymXdzcnKuwwtIUVHRMqvVGkgQxMV7NXvyJijGvcNXB/7z5Zdf\n",
              "bicI4gSO40NTAgD4bVnuODIAT2pElUq1FEEQO4fD6QsPD++fqixHEATj8/ntjoCrqKhwS0hIsJWV\n",
              "leURBHEOx3G563pT3tn5+flBDAbjg6CgoMMpKSlK17GhoSFMJpMFPk04DJIkEQzDzCwW6+5UD5Oa\n",
              "mhrfO3fufECS5GHXnf8pAAAAHMfdURTdimGYPjExsTo0NHTyj2ynEplMxurs7HyHIAiKJMlSHMct\n",
              "U9k9N2vl5+cH0en0TRiGWX18fC65vnh+LxqNBq2oqFhgMpmi7XY7arVaj+zdu/fxn/l/4bSZl5fH\n",
              "5nK5CQAQMtXznCRJePpEbwOAZhzHX4ix/wHzzC/tu64gcwAAAABJRU5ErkJggg=='\n",
              "       style='height:15px; border-radius:12px; display: inline-block; float: left'></img>\n",
              "  \n",
              "\n",
              "\n",
              "</div>\n"
            ]
          },
          "metadata": {
            "tags": []
          }
        },
        {
          "output_type": "display_data",
          "data": {
            "application/javascript": [
              "function HoloViewsWidget() {\n",
              "}\n",
              "\n",
              "HoloViewsWidget.prototype.init_slider = function(init_val){\n",
              "  if(this.load_json) {\n",
              "    this.from_json()\n",
              "  } else {\n",
              "    this.update_cache();\n",
              "  }\n",
              "}\n",
              "\n",
              "HoloViewsWidget.prototype.populate_cache = function(idx){\n",
              "  this.cache[idx].innerHTML = this.frames[idx];\n",
              "  if (this.embed) {\n",
              "    delete this.frames[idx];\n",
              "  }\n",
              "}\n",
              "\n",
              "HoloViewsWidget.prototype.process_error = function(msg){\n",
              "}\n",
              "\n",
              "HoloViewsWidget.prototype.from_json = function() {\n",
              "  var data_url = this.json_path + this.id + '.json';\n",
              "  $.getJSON(data_url, $.proxy(function(json_data) {\n",
              "    this.frames = json_data;\n",
              "    this.update_cache();\n",
              "    this.update(0);\n",
              "  }, this));\n",
              "}\n",
              "\n",
              "HoloViewsWidget.prototype.dynamic_update = function(current){\n",
              "  if (current === undefined) {\n",
              "    return\n",
              "  }\n",
              "  this.current = current;\n",
              "  if (this.comm) {\n",
              "    var msg = {comm_id: this.id+'_client', content: current}\n",
              "    this.comm.send(msg);\n",
              "  }\n",
              "}\n",
              "\n",
              "HoloViewsWidget.prototype.update_cache = function(force){\n",
              "  var frame_len = Object.keys(this.frames).length;\n",
              "  for (var i=0; i<frame_len; i++) {\n",
              "    if(!this.load_json || this.dynamic)  {\n",
              "      var frame = Object.keys(this.frames)[i];\n",
              "    } else {\n",
              "      var frame = i;\n",
              "    }\n",
              "    if(!(frame in this.cache) || force) {\n",
              "      if ((frame in this.cache) && force) { this.cache[frame].remove() }\n",
              "      var div = document.createElement(\"div\");\n",
              "      var parent = document.getElementById(\"_anim_img\"+this.id);\n",
              "      div.style.display = \"none\";\n",
              "      parent.appendChild(div)\n",
              "      this.cache[frame] = div;\n",
              "      var cache_id = \"_anim_img\"+this.id+\"_\"+frame;\n",
              "      this.populate_cache(frame);\n",
              "    }\n",
              "  }\n",
              "}\n",
              "\n",
              "HoloViewsWidget.prototype.update = function(current){\n",
              "  if(current in this.cache) {\n",
              "    for (var index in this.cache) {\n",
              "      this.cache[index].style.display = \"none\";\n",
              "    }\n",
              "    this.cache[current].style.display = \"\";\n",
              "    this.wait = false;\n",
              "  }\n",
              "}\n",
              "\n",
              "HoloViewsWidget.prototype.init_comms = function() {\n",
              "  var that = this\n",
              "  HoloViews.comm_manager.register_target(this.plot_id, this.id, function (msg) { that.msg_handler(msg) })\n",
              "  if (!this.cached || this.dynamic) {\n",
              "    function ack_callback(msg) {\n",
              "      var msg = msg.metadata;\n",
              "      var comm_id = msg.comm_id;\n",
              "      var comm_status = HoloViews.comm_status[comm_id];\n",
              "      if (that.queue.length > 0) {\n",
              "        that.time = Date.now();\n",
              "        that.dynamic_update(that.queue[that.queue.length-1]);\n",
              "        that.queue = [];\n",
              "      } else {\n",
              "        that.wait = false;\n",
              "      }\n",
              "      if ((msg.msg_type == \"Ready\") && msg.content) {\n",
              "        console.log(\"Python callback returned following output:\", msg.content);\n",
              "      } else if (msg.msg_type == \"Error\") {\n",
              "        console.log(\"Python failed with the following traceback:\", msg.traceback)\n",
              "      }\n",
              "    }\n",
              "    var comm = HoloViews.comm_manager.get_client_comm(this.plot_id, this.id+'_client', ack_callback);\n",
              "    return comm\n",
              "  }\n",
              "}\n",
              "\n",
              "HoloViewsWidget.prototype.msg_handler = function(msg) {\n",
              "  var metadata = msg.metadata;\n",
              "  if ((metadata.msg_type == \"Ready\")) {\n",
              "    if (metadata.content) {\n",
              "      console.log(\"Python callback returned following output:\", metadata.content);\n",
              "    }\n",
              "\treturn;\n",
              "  } else if (metadata.msg_type == \"Error\") {\n",
              "    console.log(\"Python failed with the following traceback:\", metadata.traceback)\n",
              "    return\n",
              "  }\n",
              "  this.process_msg(msg)\n",
              "}\n",
              "\n",
              "HoloViewsWidget.prototype.process_msg = function(msg) {\n",
              "}\n",
              "\n",
              "function SelectionWidget(frames, id, slider_ids, keyMap, dim_vals, notFound, load_json, mode, cached, json_path, dynamic, plot_id){\n",
              "  this.frames = frames;\n",
              "  this.id = id;\n",
              "  this.plot_id = plot_id;\n",
              "  this.slider_ids = slider_ids;\n",
              "  this.keyMap = keyMap\n",
              "  this.current_frame = 0;\n",
              "  this.current_vals = dim_vals;\n",
              "  this.load_json = load_json;\n",
              "  this.mode = mode;\n",
              "  this.notFound = notFound;\n",
              "  this.cached = cached;\n",
              "  this.dynamic = dynamic;\n",
              "  this.cache = {};\n",
              "  this.json_path = json_path;\n",
              "  this.init_slider(this.current_vals[0]);\n",
              "  this.queue = [];\n",
              "  this.wait = false;\n",
              "  if (!this.cached || this.dynamic) {\n",
              "    this.comm = this.init_comms();\n",
              "  }\n",
              "}\n",
              "\n",
              "SelectionWidget.prototype = new HoloViewsWidget;\n",
              "\n",
              "\n",
              "SelectionWidget.prototype.get_key = function(current_vals) {\n",
              "  var key = \"(\";\n",
              "  for (var i=0; i<this.slider_ids.length; i++)\n",
              "  {\n",
              "    var val = this.current_vals[i];\n",
              "    if (!(typeof val === 'string')) {\n",
              "      if (val % 1 === 0) { val = val.toFixed(1); }\n",
              "      else { val = val.toFixed(10); val = val.slice(0, val.length-1);}\n",
              "    }\n",
              "    key += \"'\" + val + \"'\";\n",
              "    if(i != this.slider_ids.length-1) { key += ', ';}\n",
              "    else if(this.slider_ids.length == 1) { key += ',';}\n",
              "  }\n",
              "  key += \")\";\n",
              "  return this.keyMap[key];\n",
              "}\n",
              "\n",
              "SelectionWidget.prototype.set_frame = function(dim_val, dim_idx){\n",
              "  this.current_vals[dim_idx] = dim_val;\n",
              "  var key = this.current_vals;\n",
              "  if (!this.dynamic) {\n",
              "    key = this.get_key(key)\n",
              "  }\n",
              "  if (this.dynamic || !this.cached) {\n",
              "    if ((this.time !== undefined) && ((this.wait) && ((this.time + 10000) > Date.now()))) {\n",
              "      this.queue.push(key);\n",
              "      return\n",
              "    }\n",
              "    this.queue = [];\n",
              "    this.time = Date.now();\n",
              "    this.current_frame = key;\n",
              "    this.wait = true;\n",
              "    this.dynamic_update(key)\n",
              "  } else if (key !== undefined) {\n",
              "    this.update(key)\n",
              "  }\n",
              "}\n",
              "\n",
              "\n",
              "/* Define the ScrubberWidget class */\n",
              "function ScrubberWidget(frames, num_frames, id, interval, load_json, mode, cached, json_path, dynamic, plot_id){\n",
              "  this.slider_id = \"_anim_slider\" + id;\n",
              "  this.loop_select_id = \"_anim_loop_select\" + id;\n",
              "  this.id = id;\n",
              "  this.plot_id = plot_id;\n",
              "  this.interval = interval;\n",
              "  this.current_frame = 0;\n",
              "  this.direction = 0;\n",
              "  this.dynamic = dynamic;\n",
              "  this.timer = null;\n",
              "  this.load_json = load_json;\n",
              "  this.mode = mode;\n",
              "  this.cached = cached;\n",
              "  this.frames = frames;\n",
              "  this.cache = {};\n",
              "  this.length = num_frames;\n",
              "  this.json_path = json_path;\n",
              "  document.getElementById(this.slider_id).max = this.length - 1;\n",
              "  this.init_slider(0);\n",
              "  this.wait = false;\n",
              "  this.queue = [];\n",
              "  if (!this.cached || this.dynamic) {\n",
              "    this.comm = this.init_comms()\n",
              "  }\n",
              "}\n",
              "\n",
              "ScrubberWidget.prototype = new HoloViewsWidget;\n",
              "\n",
              "ScrubberWidget.prototype.set_frame = function(frame){\n",
              "  this.current_frame = frame;\n",
              "  var widget = document.getElementById(this.slider_id);\n",
              "  if (widget === null) {\n",
              "    this.pause_animation();\n",
              "    return\n",
              "  }\n",
              "  widget.value = this.current_frame;\n",
              "  if (this.dynamic || !this.cached) {\n",
              "    if ((this.time !== undefined) && ((this.wait) && ((this.time + 10000) > Date.now()))) {\n",
              "      this.queue.push(frame);\n",
              "      return\n",
              "    }\n",
              "    this.queue = [];\n",
              "    this.time = Date.now();\n",
              "    this.wait = true;\n",
              "    this.dynamic_update(frame)\n",
              "  } else {\n",
              "    this.update(frame)\n",
              "  }\n",
              "}\n",
              "\n",
              "ScrubberWidget.prototype.get_loop_state = function(){\n",
              "  var button_group = document[this.loop_select_id].state;\n",
              "  for (var i = 0; i < button_group.length; i++) {\n",
              "    var button = button_group[i];\n",
              "    if (button.checked) {\n",
              "      return button.value;\n",
              "    }\n",
              "  }\n",
              "  return undefined;\n",
              "}\n",
              "\n",
              "\n",
              "ScrubberWidget.prototype.next_frame = function() {\n",
              "  this.set_frame(Math.min(this.length - 1, this.current_frame + 1));\n",
              "}\n",
              "\n",
              "ScrubberWidget.prototype.previous_frame = function() {\n",
              "  this.set_frame(Math.max(0, this.current_frame - 1));\n",
              "}\n",
              "\n",
              "ScrubberWidget.prototype.first_frame = function() {\n",
              "  this.set_frame(0);\n",
              "}\n",
              "\n",
              "ScrubberWidget.prototype.last_frame = function() {\n",
              "  this.set_frame(this.length - 1);\n",
              "}\n",
              "\n",
              "ScrubberWidget.prototype.slower = function() {\n",
              "  this.interval /= 0.7;\n",
              "  if(this.direction > 0){this.play_animation();}\n",
              "  else if(this.direction < 0){this.reverse_animation();}\n",
              "}\n",
              "\n",
              "ScrubberWidget.prototype.faster = function() {\n",
              "  this.interval *= 0.7;\n",
              "  if(this.direction > 0){this.play_animation();}\n",
              "  else if(this.direction < 0){this.reverse_animation();}\n",
              "}\n",
              "\n",
              "ScrubberWidget.prototype.anim_step_forward = function() {\n",
              "  if(this.current_frame < this.length - 1){\n",
              "    this.next_frame();\n",
              "  }else{\n",
              "    var loop_state = this.get_loop_state();\n",
              "    if(loop_state == \"loop\"){\n",
              "      this.first_frame();\n",
              "    }else if(loop_state == \"reflect\"){\n",
              "      this.last_frame();\n",
              "      this.reverse_animation();\n",
              "    }else{\n",
              "      this.pause_animation();\n",
              "      this.last_frame();\n",
              "    }\n",
              "  }\n",
              "}\n",
              "\n",
              "ScrubberWidget.prototype.anim_step_reverse = function() {\n",
              "  if(this.current_frame > 0){\n",
              "    this.previous_frame();\n",
              "  } else {\n",
              "    var loop_state = this.get_loop_state();\n",
              "    if(loop_state == \"loop\"){\n",
              "      this.last_frame();\n",
              "    }else if(loop_state == \"reflect\"){\n",
              "      this.first_frame();\n",
              "      this.play_animation();\n",
              "    }else{\n",
              "      this.pause_animation();\n",
              "      this.first_frame();\n",
              "    }\n",
              "  }\n",
              "}\n",
              "\n",
              "ScrubberWidget.prototype.pause_animation = function() {\n",
              "  this.direction = 0;\n",
              "  if (this.timer){\n",
              "    clearInterval(this.timer);\n",
              "    this.timer = null;\n",
              "  }\n",
              "}\n",
              "\n",
              "ScrubberWidget.prototype.play_animation = function() {\n",
              "  this.pause_animation();\n",
              "  this.direction = 1;\n",
              "  var t = this;\n",
              "  if (!this.timer) this.timer = setInterval(function(){t.anim_step_forward();}, this.interval);\n",
              "}\n",
              "\n",
              "ScrubberWidget.prototype.reverse_animation = function() {\n",
              "  this.pause_animation();\n",
              "  this.direction = -1;\n",
              "  var t = this;\n",
              "  if (!this.timer) this.timer = setInterval(function(){t.anim_step_reverse();}, this.interval);\n",
              "}\n",
              "\n",
              "function extend(destination, source) {\n",
              "  for (var k in source) {\n",
              "    if (source.hasOwnProperty(k)) {\n",
              "      destination[k] = source[k];\n",
              "    }\n",
              "  }\n",
              "  return destination;\n",
              "}\n",
              "\n",
              "function update_widget(widget, values) {\n",
              "  if (widget.hasClass(\"ui-slider\")) {\n",
              "    widget.slider('option', {\n",
              "      min: 0,\n",
              "      max: values.length-1,\n",
              "      dim_vals: values,\n",
              "      value: 0,\n",
              "      dim_labels: values\n",
              "    })\n",
              "    widget.slider('option', 'slide').call(widget, event, {value: 0})\n",
              "  } else {\n",
              "    widget.empty();\n",
              "    for (var i=0; i<values.length; i++){\n",
              "      widget.append($(\"<option>\", {\n",
              "        value: i,\n",
              "        text: values[i]\n",
              "      }))\n",
              "    };\n",
              "    widget.data('values', values);\n",
              "    widget.data('value', 0);\n",
              "    widget.trigger(\"change\");\n",
              "  };\n",
              "}\n",
              "\n",
              "function init_slider(id, plot_id, dim, values, next_vals, labels, dynamic, step, value, next_dim,\n",
              "                     dim_idx, delay, jQueryUI_CDN, UNDERSCORE_CDN) {\n",
              "  // Slider JS Block START\n",
              "  function loadcssfile(filename){\n",
              "    var fileref=document.createElement(\"link\")\n",
              "    fileref.setAttribute(\"rel\", \"stylesheet\")\n",
              "    fileref.setAttribute(\"type\", \"text/css\")\n",
              "    fileref.setAttribute(\"href\", filename)\n",
              "    document.getElementsByTagName(\"head\")[0].appendChild(fileref)\n",
              "  }\n",
              "  loadcssfile(\"https://code.jquery.com/ui/1.10.4/themes/smoothness/jquery-ui.css\");\n",
              "  /* Check if jQuery and jQueryUI have been loaded\n",
              "     otherwise load with require.js */\n",
              "  var jQuery = window.jQuery,\n",
              "    // check for old versions of jQuery\n",
              "    oldjQuery = jQuery && !!jQuery.fn.jquery.match(/^1\\.[0-4](\\.|$)/),\n",
              "    jquery_path = '',\n",
              "    paths = {},\n",
              "    noConflict;\n",
              "  var jQueryUI = jQuery.ui;\n",
              "  // check for jQuery\n",
              "  if (!jQuery || oldjQuery) {\n",
              "    // load if it's not available or doesn't meet min standards\n",
              "    paths.jQuery = jQuery;\n",
              "    noConflict = !!oldjQuery;\n",
              "  } else {\n",
              "    // register the current jQuery\n",
              "    define('jquery', [], function() { return jQuery; });\n",
              "  }\n",
              "  if (!jQueryUI) {\n",
              "    paths.jQueryUI = jQueryUI_CDN.slice(null, -3);\n",
              "  } else {\n",
              "    define('jQueryUI', [], function() { return jQuery.ui; });\n",
              "  }\n",
              "  paths.underscore = UNDERSCORE_CDN.slice(null, -3);\n",
              "  var jquery_require = {\n",
              "    paths: paths,\n",
              "    shim: {\n",
              "      \"jQueryUI\": {\n",
              "        exports:\"$\",\n",
              "        deps: ['jquery']\n",
              "      },\n",
              "      \"underscore\": {\n",
              "        exports: '_'\n",
              "      }\n",
              "    }\n",
              "  }\n",
              "  require.config(jquery_require);\n",
              "  require([\"jQueryUI\", \"underscore\"], function(jUI, _){\n",
              "    if (noConflict) $.noConflict(true);\n",
              "    var vals = values;\n",
              "    if (dynamic && vals.constructor === Array) {\n",
              "      var default_value = parseFloat(value);\n",
              "      var min = parseFloat(vals[0]);\n",
              "      var max = parseFloat(vals[vals.length-1]);\n",
              "      var wstep = step;\n",
              "      var wlabels = [default_value];\n",
              "      var init_label = default_value;\n",
              "    } else {\n",
              "      var min = 0;\n",
              "      if (dynamic) {\n",
              "        var max = Object.keys(vals).length - 1;\n",
              "        var init_label = labels[value];\n",
              "        var default_value = values[value];\n",
              "      } else {\n",
              "        var max = vals.length - 1;\n",
              "        var init_label = labels[value];\n",
              "        var default_value = value;\n",
              "      }\n",
              "      var wstep = 1;\n",
              "      var wlabels = labels;\n",
              "    }\n",
              "    function adjustFontSize(text) {\n",
              "      var width_ratio = (text.parent().width()/8)/text.val().length;\n",
              "      var size = Math.min(0.9, Math.max(0.6, width_ratio))+'em';\n",
              "      text.css('font-size', size);\n",
              "    }\n",
              "    var slider = $('#_anim_widget'+id+'_'+dim);\n",
              "    slider.slider({\n",
              "      animate: \"fast\",\n",
              "      min: min,\n",
              "      max: max,\n",
              "      step: wstep,\n",
              "      value: default_value,\n",
              "      dim_vals: vals,\n",
              "      dim_labels: wlabels,\n",
              "      next_vals: next_vals,\n",
              "      slide: function(event, ui) {\n",
              "        var vals = slider.slider(\"option\", \"dim_vals\");\n",
              "        var next_vals = slider.slider(\"option\", \"next_vals\");\n",
              "        var dlabels = slider.slider(\"option\", \"dim_labels\");\n",
              "        if (dynamic) {\n",
              "          var dim_val = ui.value;\n",
              "          if (vals.constructor === Array) {\n",
              "            var label = ui.value;\n",
              "          } else {\n",
              "            var label = dlabels[ui.value];\n",
              "          }\n",
              "        } else {\n",
              "          var dim_val = vals[ui.value];\n",
              "          var label = dlabels[ui.value];\n",
              "        }\n",
              "        var text = $('#textInput'+id+'_'+dim);\n",
              "        text.val(label);\n",
              "        adjustFontSize(text);\n",
              "        HoloViews.index[plot_id].set_frame(dim_val, dim_idx);\n",
              "        if (Object.keys(next_vals).length > 0) {\n",
              "          var new_vals = next_vals[dim_val];\n",
              "          var next_widget = $('#_anim_widget'+id+'_'+next_dim);\n",
              "          update_widget(next_widget, new_vals);\n",
              "        }\n",
              "      }\n",
              "    });\n",
              "    slider.keypress(function(event) {\n",
              "      if (event.which == 80 || event.which == 112) {\n",
              "        var start = slider.slider(\"option\", \"value\");\n",
              "        var stop =  slider.slider(\"option\", \"max\");\n",
              "        for (var i=start; i<=stop; i++) {\n",
              "          var delay = i*delay;\n",
              "          $.proxy(function doSetTimeout(i) { setTimeout($.proxy(function() {\n",
              "            var val = {value:i};\n",
              "            slider.slider('value',i);\n",
              "            slider.slider(\"option\", \"slide\")(null, val);\n",
              "          }, slider), delay);}, slider)(i);\n",
              "        }\n",
              "      }\n",
              "      if (event.which == 82 || event.which == 114) {\n",
              "        var start = slider.slider(\"option\", \"value\");\n",
              "        var stop =  slider.slider(\"option\", \"min\");\n",
              "        var count = 0;\n",
              "        for (var i=start; i>=stop; i--) {\n",
              "          var delay = count*delay;\n",
              "          count = count + 1;\n",
              "          $.proxy(function doSetTimeout(i) { setTimeout($.proxy(function() {\n",
              "            var val = {value:i};\n",
              "            slider.slider('value',i);\n",
              "            slider.slider(\"option\", \"slide\")(null, val);\n",
              "          }, slider), delay);}, slider)(i);\n",
              "        }\n",
              "      }\n",
              "    });\n",
              "    var textInput = $('#textInput'+id+'_'+dim)\n",
              "    textInput.val(init_label);\n",
              "    adjustFontSize(textInput);\n",
              "  });\n",
              "}\n",
              "\n",
              "function init_dropdown(id, plot_id, dim, vals, value, next_vals, labels, next_dim, dim_idx, dynamic) {\n",
              "  var widget = $(\"#_anim_widget\"+id+'_'+dim);\n",
              "  widget.data('values', vals)\n",
              "  for (var i=0; i<vals.length; i++){\n",
              "    if (dynamic) {\n",
              "      var val = vals[i];\n",
              "    } else {\n",
              "      var val = i;\n",
              "    }\n",
              "    widget.append($(\"<option>\", {\n",
              "      value: val,\n",
              "      text: labels[i]\n",
              "    }));\n",
              "  };\n",
              "  widget.data(\"next_vals\", next_vals);\n",
              "  widget.val(value);\n",
              "  widget.on('change', function(event, ui) {\n",
              "    if (dynamic) {\n",
              "      var dim_val = parseInt(this.value);\n",
              "    } else {\n",
              "      var dim_val = $.data(this, 'values')[this.value];\n",
              "    }\n",
              "    var next_vals = $.data(this, \"next_vals\");\n",
              "    if (Object.keys(next_vals).length > 0) {\n",
              "      var new_vals = next_vals[dim_val];\n",
              "      var next_widget = $('#_anim_widget'+id+'_'+next_dim);\n",
              "      update_widget(next_widget, new_vals);\n",
              "    }\n",
              "    var widgets = HoloViews.index[plot_id]\n",
              "    if (widgets) {\n",
              "      widgets.set_frame(dim_val, dim_idx);\n",
              "    }\n",
              "  });\n",
              "}\n",
              "\n",
              "\n",
              "if (window.HoloViews === undefined) {\n",
              "  window.HoloViews = {}\n",
              "  window.PyViz = window.HoloViews\n",
              "} else if (window.PyViz === undefined) {\n",
              "  window.PyViz = window.HoloViews\n",
              "}\n",
              "\n",
              "\n",
              "var _namespace = {\n",
              "  init_slider: init_slider,\n",
              "  init_dropdown: init_dropdown,\n",
              "  comms: {},\n",
              "  comm_status: {},\n",
              "  index: {},\n",
              "  plot_index: {},\n",
              "  kernels: {},\n",
              "  receivers: {}\n",
              "}\n",
              "\n",
              "for (var k in _namespace) {\n",
              "  if (!(k in window.HoloViews)) {\n",
              "    window.HoloViews[k] = _namespace[k];\n",
              "  }\n",
              "}\n",
              "\n",
              "// Define MPL specific subclasses\n",
              "function MPLSelectionWidget() {\n",
              "  SelectionWidget.apply(this, arguments);\n",
              "}\n",
              "\n",
              "function MPLScrubberWidget() {\n",
              "  ScrubberWidget.apply(this, arguments);\n",
              "}\n",
              "\n",
              "// Let them inherit from the baseclasses\n",
              "MPLSelectionWidget.prototype = Object.create(SelectionWidget.prototype);\n",
              "MPLScrubberWidget.prototype = Object.create(ScrubberWidget.prototype);\n",
              "\n",
              "// Define methods to override on widgets\n",
              "var MPLMethods = {\n",
              "  init_slider : function(init_val){\n",
              "    if(this.load_json) {\n",
              "      this.from_json()\n",
              "    } else {\n",
              "      this.update_cache();\n",
              "    }\n",
              "    if (this.dynamic | !this.cached | (this.current_vals === undefined)) {\n",
              "      this.update(0)\n",
              "    } else {\n",
              "      this.set_frame(this.current_vals[0], 0)\n",
              "    }\n",
              "  },\n",
              "  process_msg : function(msg) {\n",
              "    var data = msg.content.data;\n",
              "    this.frames[this.current] = data;\n",
              "    this.update_cache(true);\n",
              "    this.update(this.current);\n",
              "  }\n",
              "}\n",
              "// Extend MPL widgets with backend specific methods\n",
              "extend(MPLSelectionWidget.prototype, MPLMethods);\n",
              "extend(MPLScrubberWidget.prototype, MPLMethods);\n",
              "\n",
              "window.HoloViews.MPLSelectionWidget = MPLSelectionWidget\n",
              "window.HoloViews.MPLScrubberWidget = MPLScrubberWidget\n",
              "\n",
              "    function JupyterCommManager() {\n",
              "    }\n",
              "\n",
              "    JupyterCommManager.prototype.register_target = function(plot_id, comm_id, msg_handler) {\n",
              "      if (window.comm_manager || ((window.Jupyter !== undefined) && (Jupyter.notebook.kernel != null))) {\n",
              "        var comm_manager = window.comm_manager || Jupyter.notebook.kernel.comm_manager;\n",
              "        comm_manager.register_target(comm_id, function(comm) {\n",
              "          comm.on_msg(msg_handler);\n",
              "        });\n",
              "      } else if ((plot_id in window.PyViz.kernels) && (window.PyViz.kernels[plot_id])) {\n",
              "        window.PyViz.kernels[plot_id].registerCommTarget(comm_id, function(comm) {\n",
              "          comm.onMsg = msg_handler;\n",
              "        });\n",
              "      }\n",
              "    }\n",
              "\n",
              "    JupyterCommManager.prototype.get_client_comm = function(plot_id, comm_id, msg_handler) {\n",
              "      if (comm_id in window.PyViz.comms) {\n",
              "        return window.PyViz.comms[comm_id];\n",
              "      } else if (window.comm_manager || ((window.Jupyter !== undefined) && (Jupyter.notebook.kernel != null))) {\n",
              "        var comm_manager = window.comm_manager || Jupyter.notebook.kernel.comm_manager;\n",
              "        var comm = comm_manager.new_comm(comm_id, {}, {}, {}, comm_id);\n",
              "        if (msg_handler) {\n",
              "          comm.on_msg(msg_handler);\n",
              "        }\n",
              "      } else if ((plot_id in window.PyViz.kernels) && (window.PyViz.kernels[plot_id])) {\n",
              "        var comm = window.PyViz.kernels[plot_id].connectToComm(comm_id);\n",
              "        comm.open();\n",
              "        if (msg_handler) {\n",
              "          comm.onMsg = msg_handler;\n",
              "        }\n",
              "      }\n",
              "\n",
              "      window.PyViz.comms[comm_id] = comm;\n",
              "      return comm;\n",
              "    }\n",
              "\n",
              "    window.PyViz.comm_manager = new JupyterCommManager();\n",
              "    \n",
              "\n",
              "var JS_MIME_TYPE = 'application/javascript';\n",
              "var HTML_MIME_TYPE = 'text/html';\n",
              "var EXEC_MIME_TYPE = 'application/vnd.holoviews_exec.v0+json';\n",
              "var CLASS_NAME = 'output';\n",
              "\n",
              "/**\n",
              " * Render data to the DOM node\n",
              " */\n",
              "function render(props, node) {\n",
              "  var div = document.createElement(\"div\");\n",
              "  var script = document.createElement(\"script\");\n",
              "  node.appendChild(div);\n",
              "  node.appendChild(script);\n",
              "}\n",
              "\n",
              "/**\n",
              " * Handle when a new output is added\n",
              " */\n",
              "function handle_add_output(event, handle) {\n",
              "  var output_area = handle.output_area;\n",
              "  var output = handle.output;\n",
              "  if ((output.data == undefined) || (!output.data.hasOwnProperty(EXEC_MIME_TYPE))) {\n",
              "    return\n",
              "  }\n",
              "  var id = output.metadata[EXEC_MIME_TYPE][\"id\"];\n",
              "  var toinsert = output_area.element.find(\".\" + CLASS_NAME.split(' ')[0]);\n",
              "  if (id !== undefined) {\n",
              "    var nchildren = toinsert.length;\n",
              "    var html_node = toinsert[nchildren-1].children[0];\n",
              "    html_node.innerHTML = output.data[HTML_MIME_TYPE];\n",
              "    var scripts = [];\n",
              "    var nodelist = html_node.querySelectorAll(\"script\");\n",
              "    for (var i in nodelist) {\n",
              "      if (nodelist.hasOwnProperty(i)) {\n",
              "        scripts.push(nodelist[i])\n",
              "      }\n",
              "    }\n",
              "\n",
              "    scripts.forEach( function (oldScript) {\n",
              "      var newScript = document.createElement(\"script\");\n",
              "      var attrs = [];\n",
              "      var nodemap = oldScript.attributes;\n",
              "      for (var j in nodemap) {\n",
              "        if (nodemap.hasOwnProperty(j)) {\n",
              "          attrs.push(nodemap[j])\n",
              "        }\n",
              "      }\n",
              "      attrs.forEach(function(attr) { newScript.setAttribute(attr.name, attr.value) });\n",
              "      newScript.appendChild(document.createTextNode(oldScript.innerHTML));\n",
              "      oldScript.parentNode.replaceChild(newScript, oldScript);\n",
              "    });\n",
              "    if (JS_MIME_TYPE in output.data) {\n",
              "      toinsert[nchildren-1].children[1].textContent = output.data[JS_MIME_TYPE];\n",
              "    }\n",
              "    output_area._hv_plot_id = id;\n",
              "    if ((window.Bokeh !== undefined) && (id in Bokeh.index)) {\n",
              "      window.PyViz.plot_index[id] = Bokeh.index[id];\n",
              "    } else {\n",
              "      window.PyViz.plot_index[id] = null;\n",
              "    }\n",
              "  } else if (output.metadata[EXEC_MIME_TYPE][\"server_id\"] !== undefined) {\n",
              "    var bk_div = document.createElement(\"div\");\n",
              "    bk_div.innerHTML = output.data[HTML_MIME_TYPE];\n",
              "    var script_attrs = bk_div.children[0].attributes;\n",
              "    for (var i = 0; i < script_attrs.length; i++) {\n",
              "      toinsert[toinsert.length - 1].childNodes[1].setAttribute(script_attrs[i].name, script_attrs[i].value);\n",
              "    }\n",
              "    // store reference to server id on output_area\n",
              "    output_area._bokeh_server_id = output.metadata[EXEC_MIME_TYPE][\"server_id\"];\n",
              "  }\n",
              "}\n",
              "\n",
              "/**\n",
              " * Handle when an output is cleared or removed\n",
              " */\n",
              "function handle_clear_output(event, handle) {\n",
              "  var id = handle.cell.output_area._hv_plot_id;\n",
              "  var server_id = handle.cell.output_area._bokeh_server_id;\n",
              "  if (((id === undefined) || !(id in PyViz.plot_index)) && (server_id !== undefined)) { return; }\n",
              "  var comm = window.PyViz.comm_manager.get_client_comm(\"hv-extension-comm\", \"hv-extension-comm\", function () {});\n",
              "  if (server_id !== null) {\n",
              "    comm.send({event_type: 'server_delete', 'id': server_id});\n",
              "    return;\n",
              "  } else if (comm !== null) {\n",
              "    comm.send({event_type: 'delete', 'id': id});\n",
              "  }\n",
              "  delete PyViz.plot_index[id];\n",
              "  if ((window.Bokeh !== undefined) & (id in window.Bokeh.index)) {\n",
              "    var doc = window.Bokeh.index[id].model.document\n",
              "    doc.clear();\n",
              "    const i = window.Bokeh.documents.indexOf(doc);\n",
              "    if (i > -1) {\n",
              "      window.Bokeh.documents.splice(i, 1);\n",
              "    }\n",
              "  }\n",
              "}\n",
              "\n",
              "/**\n",
              " * Handle kernel restart event\n",
              " */\n",
              "function handle_kernel_cleanup(event, handle) {\n",
              "  delete PyViz.comms[\"hv-extension-comm\"];\n",
              "  window.PyViz.plot_index = {}\n",
              "}\n",
              "\n",
              "/**\n",
              " * Handle update_display_data messages\n",
              " */\n",
              "function handle_update_output(event, handle) {\n",
              "  handle_clear_output(event, {cell: {output_area: handle.output_area}})\n",
              "  handle_add_output(event, handle)\n",
              "}\n",
              "\n",
              "function register_renderer(events, OutputArea) {\n",
              "  function append_mime(data, metadata, element) {\n",
              "    // create a DOM node to render to\n",
              "    var toinsert = this.create_output_subarea(\n",
              "    metadata,\n",
              "    CLASS_NAME,\n",
              "    EXEC_MIME_TYPE\n",
              "    );\n",
              "    this.keyboard_manager.register_events(toinsert);\n",
              "    // Render to node\n",
              "    var props = {data: data, metadata: metadata[EXEC_MIME_TYPE]};\n",
              "    render(props, toinsert[0]);\n",
              "    element.append(toinsert);\n",
              "    return toinsert\n",
              "  }\n",
              "\n",
              "  events.on('output_added.OutputArea', handle_add_output);\n",
              "  events.on('output_updated.OutputArea', handle_update_output);\n",
              "  events.on('clear_output.CodeCell', handle_clear_output);\n",
              "  events.on('delete.Cell', handle_clear_output);\n",
              "  events.on('kernel_ready.Kernel', handle_kernel_cleanup);\n",
              "\n",
              "  OutputArea.prototype.register_mime_type(EXEC_MIME_TYPE, append_mime, {\n",
              "    safe: true,\n",
              "    index: 0\n",
              "  });\n",
              "}\n",
              "\n",
              "if (window.Jupyter !== undefined) {\n",
              "  try {\n",
              "    var events = require('base/js/events');\n",
              "    var OutputArea = require('notebook/js/outputarea').OutputArea;\n",
              "    if (OutputArea.prototype.mime_types().indexOf(EXEC_MIME_TYPE) == -1) {\n",
              "      register_renderer(events, OutputArea);\n",
              "    }\n",
              "  } catch(err) {\n",
              "  }\n",
              "}\n"
            ],
            "application/vnd.holoviews_load.v0+json": "function HoloViewsWidget() {\n}\n\nHoloViewsWidget.prototype.init_slider = function(init_val){\n  if(this.load_json) {\n    this.from_json()\n  } else {\n    this.update_cache();\n  }\n}\n\nHoloViewsWidget.prototype.populate_cache = function(idx){\n  this.cache[idx].innerHTML = this.frames[idx];\n  if (this.embed) {\n    delete this.frames[idx];\n  }\n}\n\nHoloViewsWidget.prototype.process_error = function(msg){\n}\n\nHoloViewsWidget.prototype.from_json = function() {\n  var data_url = this.json_path + this.id + '.json';\n  $.getJSON(data_url, $.proxy(function(json_data) {\n    this.frames = json_data;\n    this.update_cache();\n    this.update(0);\n  }, this));\n}\n\nHoloViewsWidget.prototype.dynamic_update = function(current){\n  if (current === undefined) {\n    return\n  }\n  this.current = current;\n  if (this.comm) {\n    var msg = {comm_id: this.id+'_client', content: current}\n    this.comm.send(msg);\n  }\n}\n\nHoloViewsWidget.prototype.update_cache = function(force){\n  var frame_len = Object.keys(this.frames).length;\n  for (var i=0; i<frame_len; i++) {\n    if(!this.load_json || this.dynamic)  {\n      var frame = Object.keys(this.frames)[i];\n    } else {\n      var frame = i;\n    }\n    if(!(frame in this.cache) || force) {\n      if ((frame in this.cache) && force) { this.cache[frame].remove() }\n      var div = document.createElement(\"div\");\n      var parent = document.getElementById(\"_anim_img\"+this.id);\n      div.style.display = \"none\";\n      parent.appendChild(div)\n      this.cache[frame] = div;\n      var cache_id = \"_anim_img\"+this.id+\"_\"+frame;\n      this.populate_cache(frame);\n    }\n  }\n}\n\nHoloViewsWidget.prototype.update = function(current){\n  if(current in this.cache) {\n    for (var index in this.cache) {\n      this.cache[index].style.display = \"none\";\n    }\n    this.cache[current].style.display = \"\";\n    this.wait = false;\n  }\n}\n\nHoloViewsWidget.prototype.init_comms = function() {\n  var that = this\n  HoloViews.comm_manager.register_target(this.plot_id, this.id, function (msg) { that.msg_handler(msg) })\n  if (!this.cached || this.dynamic) {\n    function ack_callback(msg) {\n      var msg = msg.metadata;\n      var comm_id = msg.comm_id;\n      var comm_status = HoloViews.comm_status[comm_id];\n      if (that.queue.length > 0) {\n        that.time = Date.now();\n        that.dynamic_update(that.queue[that.queue.length-1]);\n        that.queue = [];\n      } else {\n        that.wait = false;\n      }\n      if ((msg.msg_type == \"Ready\") && msg.content) {\n        console.log(\"Python callback returned following output:\", msg.content);\n      } else if (msg.msg_type == \"Error\") {\n        console.log(\"Python failed with the following traceback:\", msg.traceback)\n      }\n    }\n    var comm = HoloViews.comm_manager.get_client_comm(this.plot_id, this.id+'_client', ack_callback);\n    return comm\n  }\n}\n\nHoloViewsWidget.prototype.msg_handler = function(msg) {\n  var metadata = msg.metadata;\n  if ((metadata.msg_type == \"Ready\")) {\n    if (metadata.content) {\n      console.log(\"Python callback returned following output:\", metadata.content);\n    }\n\treturn;\n  } else if (metadata.msg_type == \"Error\") {\n    console.log(\"Python failed with the following traceback:\", metadata.traceback)\n    return\n  }\n  this.process_msg(msg)\n}\n\nHoloViewsWidget.prototype.process_msg = function(msg) {\n}\n\nfunction SelectionWidget(frames, id, slider_ids, keyMap, dim_vals, notFound, load_json, mode, cached, json_path, dynamic, plot_id){\n  this.frames = frames;\n  this.id = id;\n  this.plot_id = plot_id;\n  this.slider_ids = slider_ids;\n  this.keyMap = keyMap\n  this.current_frame = 0;\n  this.current_vals = dim_vals;\n  this.load_json = load_json;\n  this.mode = mode;\n  this.notFound = notFound;\n  this.cached = cached;\n  this.dynamic = dynamic;\n  this.cache = {};\n  this.json_path = json_path;\n  this.init_slider(this.current_vals[0]);\n  this.queue = [];\n  this.wait = false;\n  if (!this.cached || this.dynamic) {\n    this.comm = this.init_comms();\n  }\n}\n\nSelectionWidget.prototype = new HoloViewsWidget;\n\n\nSelectionWidget.prototype.get_key = function(current_vals) {\n  var key = \"(\";\n  for (var i=0; i<this.slider_ids.length; i++)\n  {\n    var val = this.current_vals[i];\n    if (!(typeof val === 'string')) {\n      if (val % 1 === 0) { val = val.toFixed(1); }\n      else { val = val.toFixed(10); val = val.slice(0, val.length-1);}\n    }\n    key += \"'\" + val + \"'\";\n    if(i != this.slider_ids.length-1) { key += ', ';}\n    else if(this.slider_ids.length == 1) { key += ',';}\n  }\n  key += \")\";\n  return this.keyMap[key];\n}\n\nSelectionWidget.prototype.set_frame = function(dim_val, dim_idx){\n  this.current_vals[dim_idx] = dim_val;\n  var key = this.current_vals;\n  if (!this.dynamic) {\n    key = this.get_key(key)\n  }\n  if (this.dynamic || !this.cached) {\n    if ((this.time !== undefined) && ((this.wait) && ((this.time + 10000) > Date.now()))) {\n      this.queue.push(key);\n      return\n    }\n    this.queue = [];\n    this.time = Date.now();\n    this.current_frame = key;\n    this.wait = true;\n    this.dynamic_update(key)\n  } else if (key !== undefined) {\n    this.update(key)\n  }\n}\n\n\n/* Define the ScrubberWidget class */\nfunction ScrubberWidget(frames, num_frames, id, interval, load_json, mode, cached, json_path, dynamic, plot_id){\n  this.slider_id = \"_anim_slider\" + id;\n  this.loop_select_id = \"_anim_loop_select\" + id;\n  this.id = id;\n  this.plot_id = plot_id;\n  this.interval = interval;\n  this.current_frame = 0;\n  this.direction = 0;\n  this.dynamic = dynamic;\n  this.timer = null;\n  this.load_json = load_json;\n  this.mode = mode;\n  this.cached = cached;\n  this.frames = frames;\n  this.cache = {};\n  this.length = num_frames;\n  this.json_path = json_path;\n  document.getElementById(this.slider_id).max = this.length - 1;\n  this.init_slider(0);\n  this.wait = false;\n  this.queue = [];\n  if (!this.cached || this.dynamic) {\n    this.comm = this.init_comms()\n  }\n}\n\nScrubberWidget.prototype = new HoloViewsWidget;\n\nScrubberWidget.prototype.set_frame = function(frame){\n  this.current_frame = frame;\n  var widget = document.getElementById(this.slider_id);\n  if (widget === null) {\n    this.pause_animation();\n    return\n  }\n  widget.value = this.current_frame;\n  if (this.dynamic || !this.cached) {\n    if ((this.time !== undefined) && ((this.wait) && ((this.time + 10000) > Date.now()))) {\n      this.queue.push(frame);\n      return\n    }\n    this.queue = [];\n    this.time = Date.now();\n    this.wait = true;\n    this.dynamic_update(frame)\n  } else {\n    this.update(frame)\n  }\n}\n\nScrubberWidget.prototype.get_loop_state = function(){\n  var button_group = document[this.loop_select_id].state;\n  for (var i = 0; i < button_group.length; i++) {\n    var button = button_group[i];\n    if (button.checked) {\n      return button.value;\n    }\n  }\n  return undefined;\n}\n\n\nScrubberWidget.prototype.next_frame = function() {\n  this.set_frame(Math.min(this.length - 1, this.current_frame + 1));\n}\n\nScrubberWidget.prototype.previous_frame = function() {\n  this.set_frame(Math.max(0, this.current_frame - 1));\n}\n\nScrubberWidget.prototype.first_frame = function() {\n  this.set_frame(0);\n}\n\nScrubberWidget.prototype.last_frame = function() {\n  this.set_frame(this.length - 1);\n}\n\nScrubberWidget.prototype.slower = function() {\n  this.interval /= 0.7;\n  if(this.direction > 0){this.play_animation();}\n  else if(this.direction < 0){this.reverse_animation();}\n}\n\nScrubberWidget.prototype.faster = function() {\n  this.interval *= 0.7;\n  if(this.direction > 0){this.play_animation();}\n  else if(this.direction < 0){this.reverse_animation();}\n}\n\nScrubberWidget.prototype.anim_step_forward = function() {\n  if(this.current_frame < this.length - 1){\n    this.next_frame();\n  }else{\n    var loop_state = this.get_loop_state();\n    if(loop_state == \"loop\"){\n      this.first_frame();\n    }else if(loop_state == \"reflect\"){\n      this.last_frame();\n      this.reverse_animation();\n    }else{\n      this.pause_animation();\n      this.last_frame();\n    }\n  }\n}\n\nScrubberWidget.prototype.anim_step_reverse = function() {\n  if(this.current_frame > 0){\n    this.previous_frame();\n  } else {\n    var loop_state = this.get_loop_state();\n    if(loop_state == \"loop\"){\n      this.last_frame();\n    }else if(loop_state == \"reflect\"){\n      this.first_frame();\n      this.play_animation();\n    }else{\n      this.pause_animation();\n      this.first_frame();\n    }\n  }\n}\n\nScrubberWidget.prototype.pause_animation = function() {\n  this.direction = 0;\n  if (this.timer){\n    clearInterval(this.timer);\n    this.timer = null;\n  }\n}\n\nScrubberWidget.prototype.play_animation = function() {\n  this.pause_animation();\n  this.direction = 1;\n  var t = this;\n  if (!this.timer) this.timer = setInterval(function(){t.anim_step_forward();}, this.interval);\n}\n\nScrubberWidget.prototype.reverse_animation = function() {\n  this.pause_animation();\n  this.direction = -1;\n  var t = this;\n  if (!this.timer) this.timer = setInterval(function(){t.anim_step_reverse();}, this.interval);\n}\n\nfunction extend(destination, source) {\n  for (var k in source) {\n    if (source.hasOwnProperty(k)) {\n      destination[k] = source[k];\n    }\n  }\n  return destination;\n}\n\nfunction update_widget(widget, values) {\n  if (widget.hasClass(\"ui-slider\")) {\n    widget.slider('option', {\n      min: 0,\n      max: values.length-1,\n      dim_vals: values,\n      value: 0,\n      dim_labels: values\n    })\n    widget.slider('option', 'slide').call(widget, event, {value: 0})\n  } else {\n    widget.empty();\n    for (var i=0; i<values.length; i++){\n      widget.append($(\"<option>\", {\n        value: i,\n        text: values[i]\n      }))\n    };\n    widget.data('values', values);\n    widget.data('value', 0);\n    widget.trigger(\"change\");\n  };\n}\n\nfunction init_slider(id, plot_id, dim, values, next_vals, labels, dynamic, step, value, next_dim,\n                     dim_idx, delay, jQueryUI_CDN, UNDERSCORE_CDN) {\n  // Slider JS Block START\n  function loadcssfile(filename){\n    var fileref=document.createElement(\"link\")\n    fileref.setAttribute(\"rel\", \"stylesheet\")\n    fileref.setAttribute(\"type\", \"text/css\")\n    fileref.setAttribute(\"href\", filename)\n    document.getElementsByTagName(\"head\")[0].appendChild(fileref)\n  }\n  loadcssfile(\"https://code.jquery.com/ui/1.10.4/themes/smoothness/jquery-ui.css\");\n  /* Check if jQuery and jQueryUI have been loaded\n     otherwise load with require.js */\n  var jQuery = window.jQuery,\n    // check for old versions of jQuery\n    oldjQuery = jQuery && !!jQuery.fn.jquery.match(/^1\\.[0-4](\\.|$)/),\n    jquery_path = '',\n    paths = {},\n    noConflict;\n  var jQueryUI = jQuery.ui;\n  // check for jQuery\n  if (!jQuery || oldjQuery) {\n    // load if it's not available or doesn't meet min standards\n    paths.jQuery = jQuery;\n    noConflict = !!oldjQuery;\n  } else {\n    // register the current jQuery\n    define('jquery', [], function() { return jQuery; });\n  }\n  if (!jQueryUI) {\n    paths.jQueryUI = jQueryUI_CDN.slice(null, -3);\n  } else {\n    define('jQueryUI', [], function() { return jQuery.ui; });\n  }\n  paths.underscore = UNDERSCORE_CDN.slice(null, -3);\n  var jquery_require = {\n    paths: paths,\n    shim: {\n      \"jQueryUI\": {\n        exports:\"$\",\n        deps: ['jquery']\n      },\n      \"underscore\": {\n        exports: '_'\n      }\n    }\n  }\n  require.config(jquery_require);\n  require([\"jQueryUI\", \"underscore\"], function(jUI, _){\n    if (noConflict) $.noConflict(true);\n    var vals = values;\n    if (dynamic && vals.constructor === Array) {\n      var default_value = parseFloat(value);\n      var min = parseFloat(vals[0]);\n      var max = parseFloat(vals[vals.length-1]);\n      var wstep = step;\n      var wlabels = [default_value];\n      var init_label = default_value;\n    } else {\n      var min = 0;\n      if (dynamic) {\n        var max = Object.keys(vals).length - 1;\n        var init_label = labels[value];\n        var default_value = values[value];\n      } else {\n        var max = vals.length - 1;\n        var init_label = labels[value];\n        var default_value = value;\n      }\n      var wstep = 1;\n      var wlabels = labels;\n    }\n    function adjustFontSize(text) {\n      var width_ratio = (text.parent().width()/8)/text.val().length;\n      var size = Math.min(0.9, Math.max(0.6, width_ratio))+'em';\n      text.css('font-size', size);\n    }\n    var slider = $('#_anim_widget'+id+'_'+dim);\n    slider.slider({\n      animate: \"fast\",\n      min: min,\n      max: max,\n      step: wstep,\n      value: default_value,\n      dim_vals: vals,\n      dim_labels: wlabels,\n      next_vals: next_vals,\n      slide: function(event, ui) {\n        var vals = slider.slider(\"option\", \"dim_vals\");\n        var next_vals = slider.slider(\"option\", \"next_vals\");\n        var dlabels = slider.slider(\"option\", \"dim_labels\");\n        if (dynamic) {\n          var dim_val = ui.value;\n          if (vals.constructor === Array) {\n            var label = ui.value;\n          } else {\n            var label = dlabels[ui.value];\n          }\n        } else {\n          var dim_val = vals[ui.value];\n          var label = dlabels[ui.value];\n        }\n        var text = $('#textInput'+id+'_'+dim);\n        text.val(label);\n        adjustFontSize(text);\n        HoloViews.index[plot_id].set_frame(dim_val, dim_idx);\n        if (Object.keys(next_vals).length > 0) {\n          var new_vals = next_vals[dim_val];\n          var next_widget = $('#_anim_widget'+id+'_'+next_dim);\n          update_widget(next_widget, new_vals);\n        }\n      }\n    });\n    slider.keypress(function(event) {\n      if (event.which == 80 || event.which == 112) {\n        var start = slider.slider(\"option\", \"value\");\n        var stop =  slider.slider(\"option\", \"max\");\n        for (var i=start; i<=stop; i++) {\n          var delay = i*delay;\n          $.proxy(function doSetTimeout(i) { setTimeout($.proxy(function() {\n            var val = {value:i};\n            slider.slider('value',i);\n            slider.slider(\"option\", \"slide\")(null, val);\n          }, slider), delay);}, slider)(i);\n        }\n      }\n      if (event.which == 82 || event.which == 114) {\n        var start = slider.slider(\"option\", \"value\");\n        var stop =  slider.slider(\"option\", \"min\");\n        var count = 0;\n        for (var i=start; i>=stop; i--) {\n          var delay = count*delay;\n          count = count + 1;\n          $.proxy(function doSetTimeout(i) { setTimeout($.proxy(function() {\n            var val = {value:i};\n            slider.slider('value',i);\n            slider.slider(\"option\", \"slide\")(null, val);\n          }, slider), delay);}, slider)(i);\n        }\n      }\n    });\n    var textInput = $('#textInput'+id+'_'+dim)\n    textInput.val(init_label);\n    adjustFontSize(textInput);\n  });\n}\n\nfunction init_dropdown(id, plot_id, dim, vals, value, next_vals, labels, next_dim, dim_idx, dynamic) {\n  var widget = $(\"#_anim_widget\"+id+'_'+dim);\n  widget.data('values', vals)\n  for (var i=0; i<vals.length; i++){\n    if (dynamic) {\n      var val = vals[i];\n    } else {\n      var val = i;\n    }\n    widget.append($(\"<option>\", {\n      value: val,\n      text: labels[i]\n    }));\n  };\n  widget.data(\"next_vals\", next_vals);\n  widget.val(value);\n  widget.on('change', function(event, ui) {\n    if (dynamic) {\n      var dim_val = parseInt(this.value);\n    } else {\n      var dim_val = $.data(this, 'values')[this.value];\n    }\n    var next_vals = $.data(this, \"next_vals\");\n    if (Object.keys(next_vals).length > 0) {\n      var new_vals = next_vals[dim_val];\n      var next_widget = $('#_anim_widget'+id+'_'+next_dim);\n      update_widget(next_widget, new_vals);\n    }\n    var widgets = HoloViews.index[plot_id]\n    if (widgets) {\n      widgets.set_frame(dim_val, dim_idx);\n    }\n  });\n}\n\n\nif (window.HoloViews === undefined) {\n  window.HoloViews = {}\n  window.PyViz = window.HoloViews\n} else if (window.PyViz === undefined) {\n  window.PyViz = window.HoloViews\n}\n\n\nvar _namespace = {\n  init_slider: init_slider,\n  init_dropdown: init_dropdown,\n  comms: {},\n  comm_status: {},\n  index: {},\n  plot_index: {},\n  kernels: {},\n  receivers: {}\n}\n\nfor (var k in _namespace) {\n  if (!(k in window.HoloViews)) {\n    window.HoloViews[k] = _namespace[k];\n  }\n}\n\n// Define MPL specific subclasses\nfunction MPLSelectionWidget() {\n  SelectionWidget.apply(this, arguments);\n}\n\nfunction MPLScrubberWidget() {\n  ScrubberWidget.apply(this, arguments);\n}\n\n// Let them inherit from the baseclasses\nMPLSelectionWidget.prototype = Object.create(SelectionWidget.prototype);\nMPLScrubberWidget.prototype = Object.create(ScrubberWidget.prototype);\n\n// Define methods to override on widgets\nvar MPLMethods = {\n  init_slider : function(init_val){\n    if(this.load_json) {\n      this.from_json()\n    } else {\n      this.update_cache();\n    }\n    if (this.dynamic | !this.cached | (this.current_vals === undefined)) {\n      this.update(0)\n    } else {\n      this.set_frame(this.current_vals[0], 0)\n    }\n  },\n  process_msg : function(msg) {\n    var data = msg.content.data;\n    this.frames[this.current] = data;\n    this.update_cache(true);\n    this.update(this.current);\n  }\n}\n// Extend MPL widgets with backend specific methods\nextend(MPLSelectionWidget.prototype, MPLMethods);\nextend(MPLScrubberWidget.prototype, MPLMethods);\n\nwindow.HoloViews.MPLSelectionWidget = MPLSelectionWidget\nwindow.HoloViews.MPLScrubberWidget = MPLScrubberWidget\n\n    function JupyterCommManager() {\n    }\n\n    JupyterCommManager.prototype.register_target = function(plot_id, comm_id, msg_handler) {\n      if (window.comm_manager || ((window.Jupyter !== undefined) && (Jupyter.notebook.kernel != null))) {\n        var comm_manager = window.comm_manager || Jupyter.notebook.kernel.comm_manager;\n        comm_manager.register_target(comm_id, function(comm) {\n          comm.on_msg(msg_handler);\n        });\n      } else if ((plot_id in window.PyViz.kernels) && (window.PyViz.kernels[plot_id])) {\n        window.PyViz.kernels[plot_id].registerCommTarget(comm_id, function(comm) {\n          comm.onMsg = msg_handler;\n        });\n      }\n    }\n\n    JupyterCommManager.prototype.get_client_comm = function(plot_id, comm_id, msg_handler) {\n      if (comm_id in window.PyViz.comms) {\n        return window.PyViz.comms[comm_id];\n      } else if (window.comm_manager || ((window.Jupyter !== undefined) && (Jupyter.notebook.kernel != null))) {\n        var comm_manager = window.comm_manager || Jupyter.notebook.kernel.comm_manager;\n        var comm = comm_manager.new_comm(comm_id, {}, {}, {}, comm_id);\n        if (msg_handler) {\n          comm.on_msg(msg_handler);\n        }\n      } else if ((plot_id in window.PyViz.kernels) && (window.PyViz.kernels[plot_id])) {\n        var comm = window.PyViz.kernels[plot_id].connectToComm(comm_id);\n        comm.open();\n        if (msg_handler) {\n          comm.onMsg = msg_handler;\n        }\n      }\n\n      window.PyViz.comms[comm_id] = comm;\n      return comm;\n    }\n\n    window.PyViz.comm_manager = new JupyterCommManager();\n    \n\nvar JS_MIME_TYPE = 'application/javascript';\nvar HTML_MIME_TYPE = 'text/html';\nvar EXEC_MIME_TYPE = 'application/vnd.holoviews_exec.v0+json';\nvar CLASS_NAME = 'output';\n\n/**\n * Render data to the DOM node\n */\nfunction render(props, node) {\n  var div = document.createElement(\"div\");\n  var script = document.createElement(\"script\");\n  node.appendChild(div);\n  node.appendChild(script);\n}\n\n/**\n * Handle when a new output is added\n */\nfunction handle_add_output(event, handle) {\n  var output_area = handle.output_area;\n  var output = handle.output;\n  if ((output.data == undefined) || (!output.data.hasOwnProperty(EXEC_MIME_TYPE))) {\n    return\n  }\n  var id = output.metadata[EXEC_MIME_TYPE][\"id\"];\n  var toinsert = output_area.element.find(\".\" + CLASS_NAME.split(' ')[0]);\n  if (id !== undefined) {\n    var nchildren = toinsert.length;\n    var html_node = toinsert[nchildren-1].children[0];\n    html_node.innerHTML = output.data[HTML_MIME_TYPE];\n    var scripts = [];\n    var nodelist = html_node.querySelectorAll(\"script\");\n    for (var i in nodelist) {\n      if (nodelist.hasOwnProperty(i)) {\n        scripts.push(nodelist[i])\n      }\n    }\n\n    scripts.forEach( function (oldScript) {\n      var newScript = document.createElement(\"script\");\n      var attrs = [];\n      var nodemap = oldScript.attributes;\n      for (var j in nodemap) {\n        if (nodemap.hasOwnProperty(j)) {\n          attrs.push(nodemap[j])\n        }\n      }\n      attrs.forEach(function(attr) { newScript.setAttribute(attr.name, attr.value) });\n      newScript.appendChild(document.createTextNode(oldScript.innerHTML));\n      oldScript.parentNode.replaceChild(newScript, oldScript);\n    });\n    if (JS_MIME_TYPE in output.data) {\n      toinsert[nchildren-1].children[1].textContent = output.data[JS_MIME_TYPE];\n    }\n    output_area._hv_plot_id = id;\n    if ((window.Bokeh !== undefined) && (id in Bokeh.index)) {\n      window.PyViz.plot_index[id] = Bokeh.index[id];\n    } else {\n      window.PyViz.plot_index[id] = null;\n    }\n  } else if (output.metadata[EXEC_MIME_TYPE][\"server_id\"] !== undefined) {\n    var bk_div = document.createElement(\"div\");\n    bk_div.innerHTML = output.data[HTML_MIME_TYPE];\n    var script_attrs = bk_div.children[0].attributes;\n    for (var i = 0; i < script_attrs.length; i++) {\n      toinsert[toinsert.length - 1].childNodes[1].setAttribute(script_attrs[i].name, script_attrs[i].value);\n    }\n    // store reference to server id on output_area\n    output_area._bokeh_server_id = output.metadata[EXEC_MIME_TYPE][\"server_id\"];\n  }\n}\n\n/**\n * Handle when an output is cleared or removed\n */\nfunction handle_clear_output(event, handle) {\n  var id = handle.cell.output_area._hv_plot_id;\n  var server_id = handle.cell.output_area._bokeh_server_id;\n  if (((id === undefined) || !(id in PyViz.plot_index)) && (server_id !== undefined)) { return; }\n  var comm = window.PyViz.comm_manager.get_client_comm(\"hv-extension-comm\", \"hv-extension-comm\", function () {});\n  if (server_id !== null) {\n    comm.send({event_type: 'server_delete', 'id': server_id});\n    return;\n  } else if (comm !== null) {\n    comm.send({event_type: 'delete', 'id': id});\n  }\n  delete PyViz.plot_index[id];\n  if ((window.Bokeh !== undefined) & (id in window.Bokeh.index)) {\n    var doc = window.Bokeh.index[id].model.document\n    doc.clear();\n    const i = window.Bokeh.documents.indexOf(doc);\n    if (i > -1) {\n      window.Bokeh.documents.splice(i, 1);\n    }\n  }\n}\n\n/**\n * Handle kernel restart event\n */\nfunction handle_kernel_cleanup(event, handle) {\n  delete PyViz.comms[\"hv-extension-comm\"];\n  window.PyViz.plot_index = {}\n}\n\n/**\n * Handle update_display_data messages\n */\nfunction handle_update_output(event, handle) {\n  handle_clear_output(event, {cell: {output_area: handle.output_area}})\n  handle_add_output(event, handle)\n}\n\nfunction register_renderer(events, OutputArea) {\n  function append_mime(data, metadata, element) {\n    // create a DOM node to render to\n    var toinsert = this.create_output_subarea(\n    metadata,\n    CLASS_NAME,\n    EXEC_MIME_TYPE\n    );\n    this.keyboard_manager.register_events(toinsert);\n    // Render to node\n    var props = {data: data, metadata: metadata[EXEC_MIME_TYPE]};\n    render(props, toinsert[0]);\n    element.append(toinsert);\n    return toinsert\n  }\n\n  events.on('output_added.OutputArea', handle_add_output);\n  events.on('output_updated.OutputArea', handle_update_output);\n  events.on('clear_output.CodeCell', handle_clear_output);\n  events.on('delete.Cell', handle_clear_output);\n  events.on('kernel_ready.Kernel', handle_kernel_cleanup);\n\n  OutputArea.prototype.register_mime_type(EXEC_MIME_TYPE, append_mime, {\n    safe: true,\n    index: 0\n  });\n}\n\nif (window.Jupyter !== undefined) {\n  try {\n    var events = require('base/js/events');\n    var OutputArea = require('notebook/js/outputarea').OutputArea;\n    if (OutputArea.prototype.mime_types().indexOf(EXEC_MIME_TYPE) == -1) {\n      register_renderer(events, OutputArea);\n    }\n  } catch(err) {\n  }\n}\n"
          },
          "metadata": {
            "tags": []
          }
        }
      ]
    },
    {
      "cell_type": "markdown",
      "metadata": {
        "id": "zByEi95J86RD",
        "colab_type": "text"
      },
      "source": [
        "### Load pre-shuffled MNIST data into train and test sets"
      ]
    },
    {
      "cell_type": "code",
      "metadata": {
        "id": "7eRM0QWN83PV",
        "colab_type": "code",
        "outputId": "659e3dd9-4063-46cc-e43a-0f83066551aa",
        "colab": {
          "base_uri": "https://localhost:8080/",
          "height": 50
        }
      },
      "source": [
        "(X_train, y_train), (X_test, y_test) = mnist.load_data()"
      ],
      "execution_count": 3,
      "outputs": [
        {
          "output_type": "stream",
          "text": [
            "Downloading data from https://s3.amazonaws.com/img-datasets/mnist.npz\n",
            "11493376/11490434 [==============================] - 2s 0us/step\n"
          ],
          "name": "stdout"
        }
      ]
    },
    {
      "cell_type": "markdown",
      "metadata": {
        "id": "KvCbQsEV5c8C",
        "colab_type": "text"
      },
      "source": [
        "## Show some meta information about the data and a sample image"
      ]
    },
    {
      "cell_type": "code",
      "metadata": {
        "id": "Icyub3uz5f5T",
        "colab_type": "code",
        "colab": {
          "base_uri": "https://localhost:8080/",
          "height": 353
        },
        "outputId": "78068c57-744e-4d74-b68a-299fd30925ab"
      },
      "source": [
        "print(\"There are {} number images in the training dataset\".format(X_train.shape[0]))\n",
        "print(\"There are {} number images in the test dataset\\n\".format(X_test.shape[0]))\n",
        "print(\"Figure below shows, how a sample image look likes\")\n",
        "\n",
        "# plt.plot(I,'o');\n",
        "plt.imshow(X_train[0])"
      ],
      "execution_count": 12,
      "outputs": [
        {
          "output_type": "stream",
          "text": [
            "There are 60000 number images in the training dataset\n",
            "There are 10000 number images in the test dataset\n",
            "\n",
            "Figure below shows, how a sample image look likes\n"
          ],
          "name": "stdout"
        },
        {
          "output_type": "execute_result",
          "data": {
            "text/plain": [
              "<matplotlib.image.AxesImage at 0x7f6de817e438>"
            ]
          },
          "metadata": {
            "tags": []
          },
          "execution_count": 12
        },
        {
          "output_type": "display_data",
          "data": {
            "image/png": "[encoded data removed]",
            "text/plain": [
              "<Figure size 432x288 with 1 Axes>"
            ]
          },
          "metadata": {
            "tags": []
          }
        }
      ]
    },
    {
      "cell_type": "markdown",
      "metadata": {
        "id": "Ub0POJMD6QRR",
        "colab_type": "text"
      },
      "source": [
        "## Check the distribution of digits in train and test dataset. There does not see to be bias in the distribution of digits. It seems to be uniform"
      ]
    },
    {
      "cell_type": "code",
      "metadata": {
        "id": "4a4Be72j8-ZC",
        "colab_type": "code",
        "outputId": "02efc05b-f94e-47f0-e246-a4fad20d6d15",
        "colab": {
          "base_uri": "https://localhost:8080/",
          "height": 50
        }
      },
      "source": [
        "print(\"Distribution of digits in train data {}\".format(dict(Counter(y_train))))\n",
        "print(\"Distribution of digits in test data {}\".format(dict(Counter(y_test))))"
      ],
      "execution_count": 15,
      "outputs": [
        {
          "output_type": "stream",
          "text": [
            "Distribution of digits in train data {5: 5421, 0: 5923, 4: 5842, 1: 6742, 9: 5949, 2: 5958, 3: 6131, 6: 5918, 7: 6265, 8: 5851}\n",
            "Distribution of digits in test data {7: 1028, 2: 1032, 1: 1135, 0: 980, 4: 982, 9: 1009, 5: 892, 6: 958, 3: 1010, 8: 974}\n"
          ],
          "name": "stdout"
        }
      ]
    },
    {
      "cell_type": "markdown",
      "metadata": {
        "id": "RblKJ0136jxD",
        "colab_type": "text"
      },
      "source": [
        "## See some sample images, how they look in train and test data using Hvplot. Each image is of the size 28 X 28"
      ]
    },
    {
      "cell_type": "code",
      "metadata": {
        "id": "XNFpFKIR6npY",
        "colab_type": "code",
        "colab": {}
      },
      "source": [
        "random.seed(999) ## For reproducibility"
      ],
      "execution_count": 0,
      "outputs": []
    },
    {
      "cell_type": "code",
      "metadata": {
        "id": "b3QF1ZTr6pxB",
        "colab_type": "code",
        "colab": {
          "base_uri": "https://localhost:8080/",
          "height": 1000
        },
        "outputId": "963bde86-76de-462e-f8ed-1004599b8ed8"
      },
      "source": [
        "nums=list(range(0,10))\n",
        "index_list_train=[]\n",
        "# Take 3 sample randomly for each digit in train and test\n",
        "for i in nums:  \n",
        "  index_list_train.append(sample(list(np.where(y_train ==i)[0]),3))\n",
        "\n",
        "index_list_test=[]\n",
        "for i in nums:  \n",
        "  index_list_test.append(sample(list(np.where(y_test ==i)[0]),3))  \n",
        "\n",
        "\n",
        "train_test_ind=[]\n",
        "for i in range(0,10):\n",
        "  a=[]\n",
        "  for item in index_list_train[i]:\n",
        "    a.append(hv.Image(X_train[item],label=\"Train\"))\n",
        "  b=[]\n",
        "  for item in index_list_test[i]:\n",
        "    b.append(hv.Image(X_test[item],label=\"Test\"))\n",
        "  train_test_ind.append(a+b)\n",
        "\n",
        "train_test_ind_flat=[item for sublist in train_test_ind for item in sublist]\n",
        "\n",
        "img=train_test_ind_flat[0]\n",
        "for i in range(1,len(train_test_ind_flat)):\n",
        "  img=img+train_test_ind_flat[i]\n",
        "  \n",
        "img.cols(6) # A very cool way to plot grids of images. Very complex code to do the same in matplotlib"
      ],
      "execution_count": 19,
      "outputs": [
        {
          "output_type": "execute_result",
          "data": {
            "text/plain": [
              ":Layout\n",
              "   .Image.Train.I      :Image   [x,y]   (z)\n",
              "   .Image.Train.II     :Image   [x,y]   (z)\n",
              "   .Image.Train.III    :Image   [x,y]   (z)\n",
              "   .Image.Test.I       :Image   [x,y]   (z)\n",
              "   .Image.Test.II      :Image   [x,y]   (z)\n",
              "   .Image.Test.III     :Image   [x,y]   (z)\n",
              "   .Image.Train.IV     :Image   [x,y]   (z)\n",
              "   .Image.Train.V      :Image   [x,y]   (z)\n",
              "   .Image.Train.VI     :Image   [x,y]   (z)\n",
              "   .Image.Test.IV      :Image   [x,y]   (z)\n",
              "   .Image.Test.V       :Image   [x,y]   (z)\n",
              "   .Image.Test.VI      :Image   [x,y]   (z)\n",
              "   .Image.Train.VII    :Image   [x,y]   (z)\n",
              "   .Image.Train.VIII   :Image   [x,y]   (z)\n",
              "   .Image.Train.IX     :Image   [x,y]   (z)\n",
              "   .Image.Test.VII     :Image   [x,y]   (z)\n",
              "   .Image.Test.VIII    :Image   [x,y]   (z)\n",
              "   .Image.Test.IX      :Image   [x,y]   (z)\n",
              "   .Image.Train.X      :Image   [x,y]   (z)\n",
              "   .Image.Train.XI     :Image   [x,y]   (z)\n",
              "   .Image.Train.XII    :Image   [x,y]   (z)\n",
              "   .Image.Test.X       :Image   [x,y]   (z)\n",
              "   .Image.Test.XI      :Image   [x,y]   (z)\n",
              "   .Image.Test.XII     :Image   [x,y]   (z)\n",
              "   .Image.Train.XIII   :Image   [x,y]   (z)\n",
              "   .Image.Train.XIV    :Image   [x,y]   (z)\n",
              "   .Image.Train.XV     :Image   [x,y]   (z)\n",
              "   .Image.Test.XIII    :Image   [x,y]   (z)\n",
              "   .Image.Test.XIV     :Image   [x,y]   (z)\n",
              "   .Image.Test.XV      :Image   [x,y]   (z)\n",
              "   .Image.Train.XVI    :Image   [x,y]   (z)\n",
              "   .Image.Train.XVII   :Image   [x,y]   (z)\n",
              "   .Image.Train.XVIII  :Image   [x,y]   (z)\n",
              "   .Image.Test.XVI     :Image   [x,y]   (z)\n",
              "   .Image.Test.XVII    :Image   [x,y]   (z)\n",
              "   .Image.Test.XVIII   :Image   [x,y]   (z)\n",
              "   .Image.Train.XIX    :Image   [x,y]   (z)\n",
              "   .Image.Train.XX     :Image   [x,y]   (z)\n",
              "   .Image.Train.XXI    :Image   [x,y]   (z)\n",
              "   .Image.Test.XIX     :Image   [x,y]   (z)\n",
              "   .Image.Test.XX      :Image   [x,y]   (z)\n",
              "   .Image.Test.XXI     :Image   [x,y]   (z)\n",
              "   .Image.Train.XXII   :Image   [x,y]   (z)\n",
              "   .Image.Train.XXIII  :Image   [x,y]   (z)\n",
              "   .Image.Train.XXIV   :Image   [x,y]   (z)\n",
              "   .Image.Test.XXII    :Image   [x,y]   (z)\n",
              "   .Image.Test.XXIII   :Image   [x,y]   (z)\n",
              "   .Image.Test.XXIV    :Image   [x,y]   (z)\n",
              "   .Image.Train.XXV    :Image   [x,y]   (z)\n",
              "   .Image.Train.XXVI   :Image   [x,y]   (z)\n",
              "   .Image.Train.XXVII  :Image   [x,y]   (z)\n",
              "   .Image.Test.XXV     :Image   [x,y]   (z)\n",
              "   .Image.Test.XXVI    :Image   [x,y]   (z)\n",
              "   .Image.Test.XXVII   :Image   [x,y]   (z)\n",
              "   .Image.Train.XXVIII :Image   [x,y]   (z)\n",
              "   .Image.Train.XXIX   :Image   [x,y]   (z)\n",
              "   .Image.Train.XXX    :Image   [x,y]   (z)\n",
              "   .Image.Test.XXVIII  :Image   [x,y]   (z)\n",
              "   .Image.Test.XXIX    :Image   [x,y]   (z)\n",
              "   .Image.Test.XXX     :Image   [x,y]   (z)"
            ],
            "text/html": [
              "<div id='140109979248344' style='display: table; margin: 0 auto;'><img src='data:image/png;base64,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' style='max-width:100%; margin: auto; display: block; '/></div>"
            ]
          },
          "metadata": {
            "tags": [],
            "application/vnd.holoviews_exec.v0+json": {}
          },
          "execution_count": 19
        }
      ]
    },
    {
      "cell_type": "markdown",
      "metadata": {
        "id": "h6SncXPc7ISl",
        "colab_type": "text"
      },
      "source": [
        "## Reshape the data to have images of size 28X 28 with 1 channel"
      ]
    },
    {
      "cell_type": "code",
      "metadata": {
        "id": "dkmprriw9AnZ",
        "colab_type": "code",
        "colab": {}
      },
      "source": [
        "X_train = X_train.reshape(X_train.shape[0], 28, 28,1)\n",
        "X_test = X_test.reshape(X_test.shape[0], 28, 28,1)"
      ],
      "execution_count": 0,
      "outputs": []
    },
    {
      "cell_type": "markdown",
      "metadata": {
        "id": "Ksb7AXrp7PXS",
        "colab_type": "text"
      },
      "source": [
        "## Conver the datatype and normalize the images"
      ]
    },
    {
      "cell_type": "code",
      "metadata": {
        "id": "X2m4YS4E9CRh",
        "colab_type": "code",
        "colab": {}
      },
      "source": [
        "X_train = X_train.astype('float32')\n",
        "X_test = X_test.astype('float32')\n",
        "X_train /= 255\n",
        "X_test /= 255"
      ],
      "execution_count": 0,
      "outputs": []
    },
    {
      "cell_type": "markdown",
      "metadata": {
        "id": "pXxiSUmR7c3f",
        "colab_type": "text"
      },
      "source": [
        "## Convert 1-dimensional class of digits to 10 dimentional where the position with digit will be 1 and zero everywhere else"
      ]
    },
    {
      "cell_type": "code",
      "metadata": {
        "id": "ZG8JiXR39FHC",
        "colab_type": "code",
        "colab": {}
      },
      "source": [
        "# Convert 1-dimensional class arrays to 10-dimensional class matrices\n",
        "Y_train = np_utils.to_categorical(y_train, 10)\n",
        "Y_test = np_utils.to_categorical(y_test, 10)"
      ],
      "execution_count": 0,
      "outputs": []
    },
    {
      "cell_type": "markdown",
      "metadata": {
        "id": "tGhwuGPK7hSW",
        "colab_type": "text"
      },
      "source": [
        "## y_train after dimentional change"
      ]
    },
    {
      "cell_type": "code",
      "metadata": {
        "id": "fYlFRvKS9HMB",
        "colab_type": "code",
        "outputId": "ee4ab939-41a5-443f-d2dc-c153c3b74490",
        "colab": {
          "base_uri": "https://localhost:8080/",
          "height": 185
        }
      },
      "source": [
        "Y_train[:10]"
      ],
      "execution_count": 23,
      "outputs": [
        {
          "output_type": "execute_result",
          "data": {
            "text/plain": [
              "array([[0., 0., 0., 0., 0., 1., 0., 0., 0., 0.],\n",
              "       [1., 0., 0., 0., 0., 0., 0., 0., 0., 0.],\n",
              "       [0., 0., 0., 0., 1., 0., 0., 0., 0., 0.],\n",
              "       [0., 1., 0., 0., 0., 0., 0., 0., 0., 0.],\n",
              "       [0., 0., 0., 0., 0., 0., 0., 0., 0., 1.],\n",
              "       [0., 0., 1., 0., 0., 0., 0., 0., 0., 0.],\n",
              "       [0., 1., 0., 0., 0., 0., 0., 0., 0., 0.],\n",
              "       [0., 0., 0., 1., 0., 0., 0., 0., 0., 0.],\n",
              "       [0., 1., 0., 0., 0., 0., 0., 0., 0., 0.],\n",
              "       [0., 0., 0., 0., 1., 0., 0., 0., 0., 0.]], dtype=float32)"
            ]
          },
          "metadata": {
            "tags": []
          },
          "execution_count": 23
        }
      ]
    },
    {
      "cell_type": "markdown",
      "metadata": {
        "id": "qFTLUp9D-vYP",
        "colab_type": "text"
      },
      "source": [
        "## Network with 70,000 parameters and 98.23% accuracy. Not a great network"
      ]
    },
    {
      "cell_type": "markdown",
      "metadata": {
        "id": "3ukF4FKW_9pX",
        "colab_type": "text"
      },
      "source": [
        "### Network Design 1 "
      ]
    },
    {
      "cell_type": "code",
      "metadata": {
        "id": "osKqT73Q9JJB",
        "colab_type": "code",
        "outputId": "9170d55b-ff42-4cc0-f8dc-501c129c7fe6",
        "colab": {
          "base_uri": "https://localhost:8080/",
          "height": 188
        }
      },
      "source": [
        "from keras.layers import Activation\n",
        "model = Sequential()\n",
        "\n",
        " \n",
        "model.add(Convolution2D(32, 3, 3, activation='relu', input_shape=(28,28,1)))\n",
        "model.add(Convolution2D(10, 1, activation='relu'))\n",
        "model.add(Convolution2D(10, 26))\n",
        "model.add(Flatten())\n",
        "model.add(Activation('softmax'))"
      ],
      "execution_count": 24,
      "outputs": [
        {
          "output_type": "stream",
          "text": [
            "WARNING: Logging before flag parsing goes to stderr.\n",
            "W0804 14:16:32.761534 140111298627456 deprecation_wrapper.py:119] From /usr/local/lib/python3.6/dist-packages/keras/backend/tensorflow_backend.py:74: The name tf.get_default_graph is deprecated. Please use tf.compat.v1.get_default_graph instead.\n",
            "\n",
            "/usr/local/lib/python3.6/dist-packages/ipykernel_launcher.py:5: UserWarning: Update your `Conv2D` call to the Keras 2 API: `Conv2D(32, (3, 3), activation=\"relu\", input_shape=(28, 28, 1...)`\n",
            "  \"\"\"\n",
            "W0804 14:16:32.813258 140111298627456 deprecation_wrapper.py:119] From /usr/local/lib/python3.6/dist-packages/keras/backend/tensorflow_backend.py:517: The name tf.placeholder is deprecated. Please use tf.compat.v1.placeholder instead.\n",
            "\n",
            "W0804 14:16:32.819795 140111298627456 deprecation_wrapper.py:119] From /usr/local/lib/python3.6/dist-packages/keras/backend/tensorflow_backend.py:4138: The name tf.random_uniform is deprecated. Please use tf.random.uniform instead.\n",
            "\n"
          ],
          "name": "stderr"
        }
      ]
    },
    {
      "cell_type": "markdown",
      "metadata": {
        "id": "AQBqK1J-AKzk",
        "colab_type": "text"
      },
      "source": [
        "### Check the model summary"
      ]
    },
    {
      "cell_type": "code",
      "metadata": {
        "id": "TzdAYg1k9K7Z",
        "colab_type": "code",
        "outputId": "c9772ee0-3b0d-49d9-ff7a-5afc6eacdc94",
        "colab": {
          "base_uri": "https://localhost:8080/",
          "height": 302
        }
      },
      "source": [
        "model.summary()"
      ],
      "execution_count": 25,
      "outputs": [
        {
          "output_type": "stream",
          "text": [
            "_________________________________________________________________\n",
            "Layer (type)                 Output Shape              Param #   \n",
            "=================================================================\n",
            "conv2d_1 (Conv2D)            (None, 26, 26, 32)        320       \n",
            "_________________________________________________________________\n",
            "conv2d_2 (Conv2D)            (None, 26, 26, 10)        330       \n",
            "_________________________________________________________________\n",
            "conv2d_3 (Conv2D)            (None, 1, 1, 10)          67610     \n",
            "_________________________________________________________________\n",
            "flatten_1 (Flatten)          (None, 10)                0         \n",
            "_________________________________________________________________\n",
            "activation_1 (Activation)    (None, 10)                0         \n",
            "=================================================================\n",
            "Total params: 68,260\n",
            "Trainable params: 68,260\n",
            "Non-trainable params: 0\n",
            "_________________________________________________________________\n"
          ],
          "name": "stdout"
        }
      ]
    },
    {
      "cell_type": "markdown",
      "metadata": {
        "id": "d7q4wbrpBqQ3",
        "colab_type": "text"
      },
      "source": [
        "### Define Optimizer function"
      ]
    },
    {
      "cell_type": "code",
      "metadata": {
        "id": "Zp6SuGrL9M3h",
        "colab_type": "code",
        "colab": {
          "base_uri": "https://localhost:8080/",
          "height": 104
        },
        "outputId": "6b060758-63fc-42ea-a215-398d51aecd1d"
      },
      "source": [
        "model.compile(loss='categorical_crossentropy',\n",
        "             optimizer='adam',\n",
        "             metrics=['accuracy'])"
      ],
      "execution_count": 26,
      "outputs": [
        {
          "output_type": "stream",
          "text": [
            "W0804 14:17:19.294748 140111298627456 deprecation_wrapper.py:119] From /usr/local/lib/python3.6/dist-packages/keras/optimizers.py:790: The name tf.train.Optimizer is deprecated. Please use tf.compat.v1.train.Optimizer instead.\n",
            "\n",
            "W0804 14:17:19.324473 140111298627456 deprecation_wrapper.py:119] From /usr/local/lib/python3.6/dist-packages/keras/backend/tensorflow_backend.py:3295: The name tf.log is deprecated. Please use tf.math.log instead.\n",
            "\n"
          ],
          "name": "stderr"
        }
      ]
    },
    {
      "cell_type": "markdown",
      "metadata": {
        "id": "Wvgynyz7Bvms",
        "colab_type": "text"
      },
      "source": [
        "### Train the network"
      ]
    },
    {
      "cell_type": "code",
      "metadata": {
        "id": "4xWoKhPY9Of5",
        "colab_type": "code",
        "outputId": "19a676cf-961c-47be-ab1f-5a07f2c5bd6c",
        "colab": {
          "base_uri": "https://localhost:8080/",
          "height": 507
        }
      },
      "source": [
        "model.fit(X_train, Y_train, batch_size=32, nb_epoch=10, verbose=1)"
      ],
      "execution_count": 27,
      "outputs": [
        {
          "output_type": "stream",
          "text": [
            "/usr/local/lib/python3.6/dist-packages/ipykernel_launcher.py:1: UserWarning: The `nb_epoch` argument in `fit` has been renamed `epochs`.\n",
            "  \"\"\"Entry point for launching an IPython kernel.\n",
            "W0804 14:17:25.946356 140111298627456 deprecation.py:323] From /usr/local/lib/python3.6/dist-packages/tensorflow/python/ops/math_grad.py:1250: add_dispatch_support.<locals>.wrapper (from tensorflow.python.ops.array_ops) is deprecated and will be removed in a future version.\n",
            "Instructions for updating:\n",
            "Use tf.where in 2.0, which has the same broadcast rule as np.where\n",
            "W0804 14:17:26.002500 140111298627456 deprecation_wrapper.py:119] From /usr/local/lib/python3.6/dist-packages/keras/backend/tensorflow_backend.py:986: The name tf.assign_add is deprecated. Please use tf.compat.v1.assign_add instead.\n",
            "\n"
          ],
          "name": "stderr"
        },
        {
          "output_type": "stream",
          "text": [
            "Epoch 1/10\n",
            "60000/60000 [==============================] - 14s 234us/step - loss: 0.1931 - acc: 0.9446\n",
            "Epoch 2/10\n",
            "60000/60000 [==============================] - 7s 118us/step - loss: 0.0727 - acc: 0.9774\n",
            "Epoch 3/10\n",
            "60000/60000 [==============================] - 7s 115us/step - loss: 0.0534 - acc: 0.9835\n",
            "Epoch 4/10\n",
            "60000/60000 [==============================] - 7s 115us/step - loss: 0.0428 - acc: 0.9867\n",
            "Epoch 5/10\n",
            "60000/60000 [==============================] - 7s 116us/step - loss: 0.0330 - acc: 0.9894\n",
            "Epoch 6/10\n",
            "60000/60000 [==============================] - 7s 115us/step - loss: 0.0276 - acc: 0.9910\n",
            "Epoch 7/10\n",
            "60000/60000 [==============================] - 7s 117us/step - loss: 0.0230 - acc: 0.9924\n",
            "Epoch 8/10\n",
            "60000/60000 [==============================] - 7s 116us/step - loss: 0.0179 - acc: 0.9938\n",
            "Epoch 9/10\n",
            "60000/60000 [==============================] - 7s 115us/step - loss: 0.0147 - acc: 0.9953\n",
            "Epoch 10/10\n",
            "60000/60000 [==============================] - 7s 116us/step - loss: 0.0123 - acc: 0.9960\n"
          ],
          "name": "stdout"
        },
        {
          "output_type": "execute_result",
          "data": {
            "text/plain": [
              "<keras.callbacks.History at 0x7f6de8212518>"
            ]
          },
          "metadata": {
            "tags": []
          },
          "execution_count": 27
        }
      ]
    },
    {
      "cell_type": "markdown",
      "metadata": {
        "id": "s8oLrHASB7xy",
        "colab_type": "text"
      },
      "source": [
        "### Print the validation score"
      ]
    },
    {
      "cell_type": "code",
      "metadata": {
        "id": "AtsH-lLk-eLb",
        "colab_type": "code",
        "colab": {
          "base_uri": "https://localhost:8080/",
          "height": 34
        },
        "outputId": "59cb2fcf-b7b0-4d01-94b6-de8f46e8a140"
      },
      "source": [
        "score = model.evaluate(X_test, Y_test, verbose=0)\n",
        "print(score)"
      ],
      "execution_count": 29,
      "outputs": [
        {
          "output_type": "stream",
          "text": [
            "[0.07567873232191741, 0.9823]\n"
          ],
          "name": "stdout"
        }
      ]
    },
    {
      "cell_type": "markdown",
      "metadata": {
        "id": "hveWonUBCWjd",
        "colab_type": "text"
      },
      "source": [
        "## Network Design 2. 5000 Parameters with 98.7% Validation Accuracy"
      ]
    },
    {
      "cell_type": "code",
      "metadata": {
        "id": "P9sbbP5Sx8co",
        "colab_type": "code",
        "colab": {
          "base_uri": "https://localhost:8080/",
          "height": 726
        },
        "outputId": "f5cc1246-5aa4-474f-84f2-f3d5854379d7"
      },
      "source": [
        "from keras.layers import Activation\n",
        "model = Sequential()\n",
        "\n",
        " \n",
        "model.add(Convolution2D(5, 3, 3, activation='relu', input_shape=(28,28,1)))\n",
        "model.add(Convolution2D(10, 3, 3, activation='relu'))\n",
        "model.add(MaxPooling2D(pool_size=(2, 2)))\n",
        "model.add(Convolution2D(5, 1, activation='relu'))\n",
        "model.add(Convolution2D(5, 3, 3, activation='relu'))\n",
        "model.add(Convolution2D(10, 3, 3, activation='relu'))\n",
        "model.add(Convolution2D(10, 3, 3, activation='relu'))\n",
        "model.add(Convolution2D(10, 3, 3, activation='relu'))\n",
        "model.add(Convolution2D(10, 4))\n",
        "model.add(Flatten())\n",
        "model.add(Activation('softmax'))\n",
        "model.summary()"
      ],
      "execution_count": 34,
      "outputs": [
        {
          "output_type": "stream",
          "text": [
            "_________________________________________________________________\n",
            "Layer (type)                 Output Shape              Param #   \n",
            "=================================================================\n",
            "conv2d_77 (Conv2D)           (None, 26, 26, 5)         50        \n",
            "_________________________________________________________________\n",
            "conv2d_78 (Conv2D)           (None, 24, 24, 10)        460       \n",
            "_________________________________________________________________\n",
            "max_pooling2d_12 (MaxPooling (None, 12, 12, 10)        0         \n",
            "_________________________________________________________________\n",
            "conv2d_79 (Conv2D)           (None, 12, 12, 5)         55        \n",
            "_________________________________________________________________\n",
            "conv2d_80 (Conv2D)           (None, 10, 10, 5)         230       \n",
            "_________________________________________________________________\n",
            "conv2d_81 (Conv2D)           (None, 8, 8, 10)          460       \n",
            "_________________________________________________________________\n",
            "conv2d_82 (Conv2D)           (None, 6, 6, 10)          910       \n",
            "_________________________________________________________________\n",
            "conv2d_83 (Conv2D)           (None, 4, 4, 10)          910       \n",
            "_________________________________________________________________\n",
            "conv2d_84 (Conv2D)           (None, 1, 1, 10)          1610      \n",
            "_________________________________________________________________\n",
            "flatten_8 (Flatten)          (None, 10)                0         \n",
            "_________________________________________________________________\n",
            "activation_8 (Activation)    (None, 10)                0         \n",
            "=================================================================\n",
            "Total params: 4,685\n",
            "Trainable params: 4,685\n",
            "Non-trainable params: 0\n",
            "_________________________________________________________________\n"
          ],
          "name": "stdout"
        },
        {
          "output_type": "stream",
          "text": [
            "/usr/local/lib/python3.6/dist-packages/ipykernel_launcher.py:5: UserWarning: Update your `Conv2D` call to the Keras 2 API: `Conv2D(5, (3, 3), activation=\"relu\", input_shape=(28, 28, 1...)`\n",
            "  \"\"\"\n",
            "/usr/local/lib/python3.6/dist-packages/ipykernel_launcher.py:6: UserWarning: Update your `Conv2D` call to the Keras 2 API: `Conv2D(10, (3, 3), activation=\"relu\")`\n",
            "  \n",
            "/usr/local/lib/python3.6/dist-packages/ipykernel_launcher.py:9: UserWarning: Update your `Conv2D` call to the Keras 2 API: `Conv2D(5, (3, 3), activation=\"relu\")`\n",
            "  if __name__ == '__main__':\n",
            "/usr/local/lib/python3.6/dist-packages/ipykernel_launcher.py:10: UserWarning: Update your `Conv2D` call to the Keras 2 API: `Conv2D(10, (3, 3), activation=\"relu\")`\n",
            "  # Remove the CWD from sys.path while we load stuff.\n",
            "/usr/local/lib/python3.6/dist-packages/ipykernel_launcher.py:11: UserWarning: Update your `Conv2D` call to the Keras 2 API: `Conv2D(10, (3, 3), activation=\"relu\")`\n",
            "  # This is added back by InteractiveShellApp.init_path()\n",
            "/usr/local/lib/python3.6/dist-packages/ipykernel_launcher.py:12: UserWarning: Update your `Conv2D` call to the Keras 2 API: `Conv2D(10, (3, 3), activation=\"relu\")`\n",
            "  if sys.path[0] == '':\n"
          ],
          "name": "stderr"
        }
      ]
    },
    {
      "cell_type": "markdown",
      "metadata": {
        "id": "BGXk3r2GCjfZ",
        "colab_type": "text"
      },
      "source": [
        "### Define the loss function/optimizer"
      ]
    },
    {
      "cell_type": "code",
      "metadata": {
        "id": "a8RPG6Q22W5C",
        "colab_type": "code",
        "colab": {
          "base_uri": "https://localhost:8080/",
          "height": 739
        },
        "outputId": "d4251856-0032-4e57-96c8-1ba694d2b017"
      },
      "source": [
        "model.compile(loss='categorical_crossentropy',\n",
        "             optimizer='adam',\n",
        "             metrics=['accuracy'])\n",
        "model.fit(X_train, Y_train, batch_size=32, nb_epoch=20, verbose=1)"
      ],
      "execution_count": 37,
      "outputs": [
        {
          "output_type": "stream",
          "text": [
            "/usr/local/lib/python3.6/dist-packages/ipykernel_launcher.py:4: UserWarning: The `nb_epoch` argument in `fit` has been renamed `epochs`.\n",
            "  after removing the cwd from sys.path.\n"
          ],
          "name": "stderr"
        },
        {
          "output_type": "stream",
          "text": [
            "Epoch 1/20\n",
            "60000/60000 [==============================] - 11s 189us/step - loss: 0.0404 - acc: 0.9872\n",
            "Epoch 2/20\n",
            "60000/60000 [==============================] - 11s 180us/step - loss: 0.0388 - acc: 0.9875\n",
            "Epoch 3/20\n",
            "60000/60000 [==============================] - 11s 177us/step - loss: 0.0362 - acc: 0.9882\n",
            "Epoch 4/20\n",
            "60000/60000 [==============================] - 11s 177us/step - loss: 0.0341 - acc: 0.9892\n",
            "Epoch 5/20\n",
            "60000/60000 [==============================] - 11s 178us/step - loss: 0.0322 - acc: 0.9896\n",
            "Epoch 6/20\n",
            "60000/60000 [==============================] - 11s 179us/step - loss: 0.0321 - acc: 0.9896\n",
            "Epoch 7/20\n",
            "60000/60000 [==============================] - 11s 179us/step - loss: 0.0302 - acc: 0.9898\n",
            "Epoch 8/20\n",
            "60000/60000 [==============================] - 11s 177us/step - loss: 0.0285 - acc: 0.9909\n",
            "Epoch 9/20\n",
            "60000/60000 [==============================] - 11s 178us/step - loss: 0.0279 - acc: 0.9909\n",
            "Epoch 10/20\n",
            "60000/60000 [==============================] - 11s 178us/step - loss: 0.0257 - acc: 0.9916\n",
            "Epoch 11/20\n",
            "60000/60000 [==============================] - 11s 178us/step - loss: 0.0268 - acc: 0.9911\n",
            "Epoch 12/20\n",
            "60000/60000 [==============================] - 11s 178us/step - loss: 0.0255 - acc: 0.9917\n",
            "Epoch 13/20\n",
            "60000/60000 [==============================] - 11s 182us/step - loss: 0.0247 - acc: 0.9919\n",
            "Epoch 14/20\n",
            "60000/60000 [==============================] - 11s 178us/step - loss: 0.0249 - acc: 0.9918\n",
            "Epoch 15/20\n",
            "60000/60000 [==============================] - 11s 178us/step - loss: 0.0224 - acc: 0.9927\n",
            "Epoch 16/20\n",
            "60000/60000 [==============================] - 11s 178us/step - loss: 0.0233 - acc: 0.9921\n",
            "Epoch 17/20\n",
            "60000/60000 [==============================] - 11s 178us/step - loss: 0.0228 - acc: 0.9921\n",
            "Epoch 18/20\n",
            "60000/60000 [==============================] - 11s 178us/step - loss: 0.0216 - acc: 0.9925\n",
            "Epoch 19/20\n",
            "60000/60000 [==============================] - 11s 182us/step - loss: 0.0219 - acc: 0.9926\n",
            "Epoch 20/20\n",
            "60000/60000 [==============================] - 11s 184us/step - loss: 0.0195 - acc: 0.9935\n"
          ],
          "name": "stdout"
        },
        {
          "output_type": "execute_result",
          "data": {
            "text/plain": [
              "<keras.callbacks.History at 0x7f6536b00e10>"
            ]
          },
          "metadata": {
            "tags": []
          },
          "execution_count": 37
        }
      ]
    },
    {
      "cell_type": "markdown",
      "metadata": {
        "id": "zkzc6SAyCoX_",
        "colab_type": "text"
      },
      "source": [
        "### Check the validation score"
      ]
    },
    {
      "cell_type": "code",
      "metadata": {
        "id": "JliBt0Po254c",
        "colab_type": "code",
        "colab": {
          "base_uri": "https://localhost:8080/",
          "height": 34
        },
        "outputId": "d5fb5b22-b12c-4192-b20b-acaec3e432ee"
      },
      "source": [
        "score = model.evaluate(X_test, Y_test, verbose=0)\n",
        "print(score)"
      ],
      "execution_count": 38,
      "outputs": [
        {
          "output_type": "stream",
          "text": [
            "[0.056274942871784694, 0.9876]\n"
          ],
          "name": "stdout"
        }
      ]
    },
    {
      "cell_type": "markdown",
      "metadata": {
        "id": "Nacyhdm1DliT",
        "colab_type": "text"
      },
      "source": [
        "## Network Design 3. 24000 Parameters with 99.17 Validation Accuracy"
      ]
    },
    {
      "cell_type": "code",
      "metadata": {
        "id": "e2j5tNVkIa-Q",
        "colab_type": "code",
        "colab": {
          "base_uri": "https://localhost:8080/",
          "height": 726
        },
        "outputId": "619d0aff-f654-4ee8-a61b-a0c95aaa97db"
      },
      "source": [
        "model = Sequential()\n",
        "\n",
        "model.add(Convolution2D(8, 3, 3, activation='relu', input_shape=(28,28,1)))\n",
        "model.add(Convolution2D(16, 3, 3, activation='relu'))\n",
        "model.add(Convolution2D(24, 3, 3, activation='relu'))\n",
        "model.add(MaxPooling2D(pool_size=(2, 2)))\n",
        "model.add(Convolution2D(8, 1, activation='relu'))\n",
        "model.add(Convolution2D(16, 3, 3, activation='relu'))\n",
        "model.add(Convolution2D(24, 3, 3, activation='relu'))\n",
        "model.add(Convolution2D(32, 3, 3, activation='relu'))\n",
        "# model.add(Convolution2D(16, 3, 3, activation='relu'))\n",
        "# # model.add(Convolution2D(10, 3, 3, activation='relu'))\n",
        "model.add(Convolution2D(10, 5))\n",
        "model.add(Flatten())\n",
        "model.add(Activation('softmax'))\n",
        "model.summary()"
      ],
      "execution_count": 99,
      "outputs": [
        {
          "output_type": "stream",
          "text": [
            "_________________________________________________________________\n",
            "Layer (type)                 Output Shape              Param #   \n",
            "=================================================================\n",
            "conv2d_301 (Conv2D)          (None, 26, 26, 8)         80        \n",
            "_________________________________________________________________\n",
            "conv2d_302 (Conv2D)          (None, 24, 24, 16)        1168      \n",
            "_________________________________________________________________\n",
            "conv2d_303 (Conv2D)          (None, 22, 22, 24)        3480      \n",
            "_________________________________________________________________\n",
            "max_pooling2d_51 (MaxPooling (None, 11, 11, 24)        0         \n",
            "_________________________________________________________________\n",
            "conv2d_304 (Conv2D)          (None, 11, 11, 8)         200       \n",
            "_________________________________________________________________\n",
            "conv2d_305 (Conv2D)          (None, 9, 9, 16)          1168      \n",
            "_________________________________________________________________\n",
            "conv2d_306 (Conv2D)          (None, 7, 7, 24)          3480      \n",
            "_________________________________________________________________\n",
            "conv2d_307 (Conv2D)          (None, 5, 5, 32)          6944      \n",
            "_________________________________________________________________\n",
            "conv2d_308 (Conv2D)          (None, 1, 1, 10)          8010      \n",
            "_________________________________________________________________\n",
            "flatten_28 (Flatten)         (None, 10)                0         \n",
            "_________________________________________________________________\n",
            "activation_22 (Activation)   (None, 10)                0         \n",
            "=================================================================\n",
            "Total params: 24,530\n",
            "Trainable params: 24,530\n",
            "Non-trainable params: 0\n",
            "_________________________________________________________________\n"
          ],
          "name": "stdout"
        },
        {
          "output_type": "stream",
          "text": [
            "/usr/local/lib/python3.6/dist-packages/ipykernel_launcher.py:3: UserWarning: Update your `Conv2D` call to the Keras 2 API: `Conv2D(8, (3, 3), activation=\"relu\", input_shape=(28, 28, 1...)`\n",
            "  This is separate from the ipykernel package so we can avoid doing imports until\n",
            "/usr/local/lib/python3.6/dist-packages/ipykernel_launcher.py:4: UserWarning: Update your `Conv2D` call to the Keras 2 API: `Conv2D(16, (3, 3), activation=\"relu\")`\n",
            "  after removing the cwd from sys.path.\n",
            "/usr/local/lib/python3.6/dist-packages/ipykernel_launcher.py:5: UserWarning: Update your `Conv2D` call to the Keras 2 API: `Conv2D(24, (3, 3), activation=\"relu\")`\n",
            "  \"\"\"\n",
            "/usr/local/lib/python3.6/dist-packages/ipykernel_launcher.py:8: UserWarning: Update your `Conv2D` call to the Keras 2 API: `Conv2D(16, (3, 3), activation=\"relu\")`\n",
            "  \n",
            "/usr/local/lib/python3.6/dist-packages/ipykernel_launcher.py:9: UserWarning: Update your `Conv2D` call to the Keras 2 API: `Conv2D(24, (3, 3), activation=\"relu\")`\n",
            "  if __name__ == '__main__':\n",
            "/usr/local/lib/python3.6/dist-packages/ipykernel_launcher.py:10: UserWarning: Update your `Conv2D` call to the Keras 2 API: `Conv2D(32, (3, 3), activation=\"relu\")`\n",
            "  # Remove the CWD from sys.path while we load stuff.\n"
          ],
          "name": "stderr"
        }
      ]
    },
    {
      "cell_type": "markdown",
      "metadata": {
        "id": "nlnj9Sl8DpSP",
        "colab_type": "text"
      },
      "source": [
        "### Define the loss/Optimizer function"
      ]
    },
    {
      "cell_type": "code",
      "metadata": {
        "id": "4fBaG1euNl9k",
        "colab_type": "code",
        "colab": {
          "base_uri": "https://localhost:8080/",
          "height": 1000
        },
        "outputId": "377344c6-5ee4-4d33-a018-14378e81bcc5"
      },
      "source": [
        "model.compile(loss='categorical_crossentropy',\n",
        "             optimizer='adam',\n",
        "             metrics=['accuracy'])\n",
        "model.fit(X_train, Y_train, batch_size=100, nb_epoch=30, verbose=1)"
      ],
      "execution_count": 100,
      "outputs": [
        {
          "output_type": "stream",
          "text": [
            "/usr/local/lib/python3.6/dist-packages/ipykernel_launcher.py:4: UserWarning: The `nb_epoch` argument in `fit` has been renamed `epochs`.\n",
            "  after removing the cwd from sys.path.\n"
          ],
          "name": "stderr"
        },
        {
          "output_type": "stream",
          "text": [
            "Epoch 1/30\n",
            "60000/60000 [==============================] - 8s 138us/step - loss: 0.2715 - acc: 0.9176\n",
            "Epoch 2/30\n",
            "60000/60000 [==============================] - 5s 77us/step - loss: 0.0686 - acc: 0.9793\n",
            "Epoch 3/30\n",
            "60000/60000 [==============================] - 5s 78us/step - loss: 0.0516 - acc: 0.9841\n",
            "Epoch 4/30\n",
            "60000/60000 [==============================] - 5s 77us/step - loss: 0.0418 - acc: 0.9869\n",
            "Epoch 5/30\n",
            "60000/60000 [==============================] - 5s 81us/step - loss: 0.0345 - acc: 0.9894\n",
            "Epoch 6/30\n",
            "60000/60000 [==============================] - 5s 82us/step - loss: 0.0287 - acc: 0.9909\n",
            "Epoch 7/30\n",
            "60000/60000 [==============================] - 5s 77us/step - loss: 0.0254 - acc: 0.9922\n",
            "Epoch 8/30\n",
            "60000/60000 [==============================] - 5s 77us/step - loss: 0.0228 - acc: 0.9925\n",
            "Epoch 9/30\n",
            "60000/60000 [==============================] - 5s 76us/step - loss: 0.0203 - acc: 0.9935\n",
            "Epoch 10/30\n",
            "60000/60000 [==============================] - 5s 77us/step - loss: 0.0177 - acc: 0.9943\n",
            "Epoch 11/30\n",
            "60000/60000 [==============================] - 5s 76us/step - loss: 0.0173 - acc: 0.9942\n",
            "Epoch 12/30\n",
            "60000/60000 [==============================] - 5s 78us/step - loss: 0.0149 - acc: 0.9952\n",
            "Epoch 13/30\n",
            "60000/60000 [==============================] - 5s 77us/step - loss: 0.0135 - acc: 0.9955\n",
            "Epoch 14/30\n",
            "60000/60000 [==============================] - 5s 79us/step - loss: 0.0128 - acc: 0.9959\n",
            "Epoch 15/30\n",
            "60000/60000 [==============================] - 5s 79us/step - loss: 0.0115 - acc: 0.9961\n",
            "Epoch 16/30\n",
            "60000/60000 [==============================] - 5s 78us/step - loss: 0.0104 - acc: 0.9965\n",
            "Epoch 17/30\n",
            "60000/60000 [==============================] - 5s 78us/step - loss: 0.0097 - acc: 0.9967\n",
            "Epoch 18/30\n",
            "60000/60000 [==============================] - 5s 77us/step - loss: 0.0087 - acc: 0.9970\n",
            "Epoch 19/30\n",
            "60000/60000 [==============================] - 5s 78us/step - loss: 0.0091 - acc: 0.9971\n",
            "Epoch 20/30\n",
            "60000/60000 [==============================] - 5s 77us/step - loss: 0.0088 - acc: 0.9971\n",
            "Epoch 21/30\n",
            "60000/60000 [==============================] - 5s 78us/step - loss: 0.0075 - acc: 0.9976\n",
            "Epoch 22/30\n",
            "60000/60000 [==============================] - 5s 76us/step - loss: 0.0085 - acc: 0.9971\n",
            "Epoch 23/30\n",
            "60000/60000 [==============================] - 5s 77us/step - loss: 0.0067 - acc: 0.9978\n",
            "Epoch 24/30\n",
            "60000/60000 [==============================] - 5s 77us/step - loss: 0.0074 - acc: 0.9974\n",
            "Epoch 25/30\n",
            "60000/60000 [==============================] - 5s 76us/step - loss: 0.0064 - acc: 0.9978\n",
            "Epoch 26/30\n",
            "60000/60000 [==============================] - 5s 77us/step - loss: 0.0056 - acc: 0.9983\n",
            "Epoch 27/30\n",
            "60000/60000 [==============================] - 5s 76us/step - loss: 0.0066 - acc: 0.9979\n",
            "Epoch 28/30\n",
            "60000/60000 [==============================] - 5s 77us/step - loss: 0.0067 - acc: 0.9979\n",
            "Epoch 29/30\n",
            "60000/60000 [==============================] - 5s 78us/step - loss: 0.0056 - acc: 0.9982\n",
            "Epoch 30/30\n",
            "60000/60000 [==============================] - 5s 79us/step - loss: 0.0058 - acc: 0.9980\n"
          ],
          "name": "stdout"
        },
        {
          "output_type": "execute_result",
          "data": {
            "text/plain": [
              "<keras.callbacks.History at 0x7f22f1344080>"
            ]
          },
          "metadata": {
            "tags": []
          },
          "execution_count": 100
        }
      ]
    },
    {
      "cell_type": "markdown",
      "metadata": {
        "id": "9KURulgsEUin",
        "colab_type": "text"
      },
      "source": [
        "### Print the validation score"
      ]
    },
    {
      "cell_type": "code",
      "metadata": {
        "id": "TAGIKtPBODVZ",
        "colab_type": "code",
        "colab": {
          "base_uri": "https://localhost:8080/",
          "height": 34
        },
        "outputId": "03cee348-8678-41c8-c45d-a4c91d2edc75"
      },
      "source": [
        "score_train = model.evaluate(X_train, Y_train, verbose=0)\n",
        "score_test = model.evaluate(X_test, Y_test,verbose=0)\n",
        "print(\"Train Score: {} Test score: {}\".format(score_train,score_test))"
      ],
      "execution_count": 101,
      "outputs": [
        {
          "output_type": "stream",
          "text": [
            "Train Score: [0.005445570188108521, 0.9982333333333333] Test score: [0.04495789147009887, 0.9917]\n"
          ],
          "name": "stdout"
        }
      ]
    },
    {
      "cell_type": "markdown",
      "metadata": {
        "id": "9OGs3NKqEdbF",
        "colab_type": "text"
      },
      "source": [
        "## Network Deisgn 4: 40,000 Parameters and 99.29% Validation Accuracy"
      ]
    },
    {
      "cell_type": "code",
      "metadata": {
        "id": "wM1EwH_cUpKP",
        "colab_type": "code",
        "colab": {
          "base_uri": "https://localhost:8080/",
          "height": 793
        },
        "outputId": "319a4066-f205-4809-b1ae-52ffcd5138a0"
      },
      "source": [
        "model = Sequential()\n",
        "\n",
        "model.add(Convolution2D(8, 3, 3, activation='relu', input_shape=(28,28,1)))\n",
        "model.add(Convolution2D(16, 3, 3, activation='relu'))\n",
        "model.add(Convolution2D(24, 3, 3, activation='relu'))\n",
        "model.add(MaxPooling2D(pool_size=(2, 2)))\n",
        "model.add(Convolution2D(8, 1, activation='relu'))\n",
        "model.add(Convolution2D(16, 3, 3, activation='relu'))\n",
        "model.add(Convolution2D(24, 3, 3, activation='relu'))\n",
        "model.add(Convolution2D(32, 3, 3, activation='relu'))\n",
        "model.add(Convolution2D(64, 3, 3, activation='relu'))\n",
        "# model.add(Convolution2D(16, 3, 3, activation='relu'))\n",
        "# # model.add(Convolution2D(10, 3, 3, activation='relu'))\n",
        "model.add(Convolution2D(10, 3))\n",
        "model.add(Flatten())\n",
        "model.add(Activation('softmax'))\n",
        "model.summary()"
      ],
      "execution_count": 104,
      "outputs": [
        {
          "output_type": "stream",
          "text": [
            "_________________________________________________________________\n",
            "Layer (type)                 Output Shape              Param #   \n",
            "=================================================================\n",
            "conv2d_326 (Conv2D)          (None, 26, 26, 8)         80        \n",
            "_________________________________________________________________\n",
            "conv2d_327 (Conv2D)          (None, 24, 24, 16)        1168      \n",
            "_________________________________________________________________\n",
            "conv2d_328 (Conv2D)          (None, 22, 22, 24)        3480      \n",
            "_________________________________________________________________\n",
            "max_pooling2d_54 (MaxPooling (None, 11, 11, 24)        0         \n",
            "_________________________________________________________________\n",
            "conv2d_329 (Conv2D)          (None, 11, 11, 8)         200       \n",
            "_________________________________________________________________\n",
            "conv2d_330 (Conv2D)          (None, 9, 9, 16)          1168      \n",
            "_________________________________________________________________\n",
            "conv2d_331 (Conv2D)          (None, 7, 7, 24)          3480      \n",
            "_________________________________________________________________\n",
            "conv2d_332 (Conv2D)          (None, 5, 5, 32)          6944      \n",
            "_________________________________________________________________\n",
            "conv2d_333 (Conv2D)          (None, 3, 3, 64)          18496     \n",
            "_________________________________________________________________\n",
            "conv2d_334 (Conv2D)          (None, 1, 1, 10)          5770      \n",
            "_________________________________________________________________\n",
            "flatten_31 (Flatten)         (None, 10)                0         \n",
            "_________________________________________________________________\n",
            "activation_25 (Activation)   (None, 10)                0         \n",
            "=================================================================\n",
            "Total params: 40,786\n",
            "Trainable params: 40,786\n",
            "Non-trainable params: 0\n",
            "_________________________________________________________________\n"
          ],
          "name": "stdout"
        },
        {
          "output_type": "stream",
          "text": [
            "/usr/local/lib/python3.6/dist-packages/ipykernel_launcher.py:3: UserWarning: Update your `Conv2D` call to the Keras 2 API: `Conv2D(8, (3, 3), activation=\"relu\", input_shape=(28, 28, 1...)`\n",
            "  This is separate from the ipykernel package so we can avoid doing imports until\n",
            "/usr/local/lib/python3.6/dist-packages/ipykernel_launcher.py:4: UserWarning: Update your `Conv2D` call to the Keras 2 API: `Conv2D(16, (3, 3), activation=\"relu\")`\n",
            "  after removing the cwd from sys.path.\n",
            "/usr/local/lib/python3.6/dist-packages/ipykernel_launcher.py:5: UserWarning: Update your `Conv2D` call to the Keras 2 API: `Conv2D(24, (3, 3), activation=\"relu\")`\n",
            "  \"\"\"\n",
            "/usr/local/lib/python3.6/dist-packages/ipykernel_launcher.py:8: UserWarning: Update your `Conv2D` call to the Keras 2 API: `Conv2D(16, (3, 3), activation=\"relu\")`\n",
            "  \n",
            "/usr/local/lib/python3.6/dist-packages/ipykernel_launcher.py:9: UserWarning: Update your `Conv2D` call to the Keras 2 API: `Conv2D(24, (3, 3), activation=\"relu\")`\n",
            "  if __name__ == '__main__':\n",
            "/usr/local/lib/python3.6/dist-packages/ipykernel_launcher.py:10: UserWarning: Update your `Conv2D` call to the Keras 2 API: `Conv2D(32, (3, 3), activation=\"relu\")`\n",
            "  # Remove the CWD from sys.path while we load stuff.\n",
            "/usr/local/lib/python3.6/dist-packages/ipykernel_launcher.py:11: UserWarning: Update your `Conv2D` call to the Keras 2 API: `Conv2D(64, (3, 3), activation=\"relu\")`\n",
            "  # This is added back by InteractiveShellApp.init_path()\n"
          ],
          "name": "stderr"
        }
      ]
    },
    {
      "cell_type": "markdown",
      "metadata": {
        "id": "qzqi54fJGL6P",
        "colab_type": "text"
      },
      "source": [
        "### Define the loss function"
      ]
    },
    {
      "cell_type": "code",
      "metadata": {
        "id": "DcYvCsVcVVX2",
        "colab_type": "code",
        "colab": {
          "base_uri": "https://localhost:8080/",
          "height": 1000
        },
        "outputId": "68dc8e7c-1dda-4904-f1ba-b45f43949415"
      },
      "source": [
        "model.compile(loss='categorical_crossentropy',\n",
        "             optimizer='adam',\n",
        "             metrics=['accuracy'])\n",
        "model.fit(X_train, Y_train, batch_size=100, nb_epoch=30, verbose=1)"
      ],
      "execution_count": 105,
      "outputs": [
        {
          "output_type": "stream",
          "text": [
            "/usr/local/lib/python3.6/dist-packages/ipykernel_launcher.py:4: UserWarning: The `nb_epoch` argument in `fit` has been renamed `epochs`.\n",
            "  after removing the cwd from sys.path.\n"
          ],
          "name": "stderr"
        },
        {
          "output_type": "stream",
          "text": [
            "Epoch 1/30\n",
            "60000/60000 [==============================] - 9s 150us/step - loss: 0.3154 - acc: 0.8993\n",
            "Epoch 2/30\n",
            "60000/60000 [==============================] - 5s 86us/step - loss: 0.0767 - acc: 0.9763\n",
            "Epoch 3/30\n",
            "60000/60000 [==============================] - 5s 85us/step - loss: 0.0536 - acc: 0.9827\n",
            "Epoch 4/30\n",
            "60000/60000 [==============================] - 5s 87us/step - loss: 0.0425 - acc: 0.9866\n",
            "Epoch 5/30\n",
            "60000/60000 [==============================] - 5s 85us/step - loss: 0.0361 - acc: 0.9882\n",
            "Epoch 6/30\n",
            "60000/60000 [==============================] - 5s 84us/step - loss: 0.0305 - acc: 0.9901\n",
            "Epoch 7/30\n",
            "60000/60000 [==============================] - 5s 84us/step - loss: 0.0273 - acc: 0.9913\n",
            "Epoch 8/30\n",
            "60000/60000 [==============================] - 5s 85us/step - loss: 0.0232 - acc: 0.9924\n",
            "Epoch 9/30\n",
            "60000/60000 [==============================] - 5s 86us/step - loss: 0.0212 - acc: 0.9931\n",
            "Epoch 10/30\n",
            "60000/60000 [==============================] - 5s 84us/step - loss: 0.0194 - acc: 0.9936\n",
            "Epoch 11/30\n",
            "60000/60000 [==============================] - 5s 84us/step - loss: 0.0175 - acc: 0.9942\n",
            "Epoch 12/30\n",
            "60000/60000 [==============================] - 5s 83us/step - loss: 0.0162 - acc: 0.9945\n",
            "Epoch 13/30\n",
            "60000/60000 [==============================] - 5s 83us/step - loss: 0.0132 - acc: 0.9959\n",
            "Epoch 14/30\n",
            "60000/60000 [==============================] - 5s 84us/step - loss: 0.0153 - acc: 0.9950\n",
            "Epoch 15/30\n",
            "60000/60000 [==============================] - 5s 83us/step - loss: 0.0124 - acc: 0.9963\n",
            "Epoch 16/30\n",
            "60000/60000 [==============================] - 5s 84us/step - loss: 0.0115 - acc: 0.9960\n",
            "Epoch 17/30\n",
            "60000/60000 [==============================] - 5s 84us/step - loss: 0.0105 - acc: 0.9964\n",
            "Epoch 18/30\n",
            "60000/60000 [==============================] - 5s 83us/step - loss: 0.0107 - acc: 0.9963\n",
            "Epoch 19/30\n",
            "60000/60000 [==============================] - 5s 83us/step - loss: 0.0093 - acc: 0.9967\n",
            "Epoch 20/30\n",
            "60000/60000 [==============================] - 5s 84us/step - loss: 0.0084 - acc: 0.9970\n",
            "Epoch 21/30\n",
            "60000/60000 [==============================] - 5s 83us/step - loss: 0.0093 - acc: 0.9969\n",
            "Epoch 22/30\n",
            "60000/60000 [==============================] - 5s 85us/step - loss: 0.0083 - acc: 0.9974\n",
            "Epoch 23/30\n",
            "60000/60000 [==============================] - 5s 84us/step - loss: 0.0086 - acc: 0.9972\n",
            "Epoch 24/30\n",
            "60000/60000 [==============================] - 5s 83us/step - loss: 0.0070 - acc: 0.9978\n",
            "Epoch 25/30\n",
            "60000/60000 [==============================] - 5s 83us/step - loss: 0.0071 - acc: 0.9975\n",
            "Epoch 26/30\n",
            "60000/60000 [==============================] - 5s 84us/step - loss: 0.0075 - acc: 0.9974\n",
            "Epoch 27/30\n",
            "60000/60000 [==============================] - 5s 87us/step - loss: 0.0060 - acc: 0.9980\n",
            "Epoch 28/30\n",
            "60000/60000 [==============================] - 5s 87us/step - loss: 0.0074 - acc: 0.9976\n",
            "Epoch 29/30\n",
            "60000/60000 [==============================] - 5s 85us/step - loss: 0.0069 - acc: 0.9974\n",
            "Epoch 30/30\n",
            "60000/60000 [==============================] - 6s 92us/step - loss: 0.0062 - acc: 0.9979\n"
          ],
          "name": "stdout"
        },
        {
          "output_type": "execute_result",
          "data": {
            "text/plain": [
              "<keras.callbacks.History at 0x7f22f2143518>"
            ]
          },
          "metadata": {
            "tags": []
          },
          "execution_count": 105
        }
      ]
    },
    {
      "cell_type": "markdown",
      "metadata": {
        "id": "onKtI1UmGQdo",
        "colab_type": "text"
      },
      "source": [
        "### Print the validation Accuracy"
      ]
    },
    {
      "cell_type": "code",
      "metadata": {
        "id": "w7-K_IbFVs-c",
        "colab_type": "code",
        "colab": {
          "base_uri": "https://localhost:8080/",
          "height": 34
        },
        "outputId": "2e1f36c1-e4e4-4adf-f259-9f27a904b99b"
      },
      "source": [
        "score_train = model.evaluate(X_train, Y_train, verbose=0)\n",
        "score_test = model.evaluate(X_test, Y_test,verbose=0)\n",
        "print(\"Train Score: {} Test score: {}\".format(score_train,score_test))"
      ],
      "execution_count": 106,
      "outputs": [
        {
          "output_type": "stream",
          "text": [
            "Train Score: [0.001221236837824578, 0.9997166666666667] Test score: [0.029364099923595812, 0.9929]\n"
          ],
          "name": "stdout"
        }
      ]
    },
    {
      "cell_type": "markdown",
      "metadata": {
        "id": "fNRJhm99XtLo",
        "colab_type": "text"
      },
      "source": [
        "## Network Design 5"
      ]
    },
    {
      "cell_type": "code",
      "metadata": {
        "id": "LxkRis0ZWNLW",
        "colab_type": "code",
        "colab": {
          "base_uri": "https://localhost:8080/",
          "height": 726
        },
        "outputId": "c94dd2a5-368e-455e-fc0a-ca6ce329937d"
      },
      "source": [
        "model = Sequential()\n",
        "\n",
        "model.add(Convolution2D(8, 3, 3, activation='relu', input_shape=(28,28,1)))\n",
        "model.add(Convolution2D(16, 3, 3, activation='relu'))\n",
        "model.add(MaxPooling2D(pool_size=(2, 2)))\n",
        "model.add(Convolution2D(16, 1, activation='relu'))\n",
        "model.add(Convolution2D(24, 3, 3, activation='relu'))\n",
        "model.add(Convolution2D(32, 3, 3, activation='relu'))\n",
        "model.add(MaxPooling2D(pool_size=(2, 2)))\n",
        "model.add(Convolution2D(16, 1, activation='relu'))\n",
        "model.add(Convolution2D(32, 3, 3, activation='relu'))\n",
        "model.add(Convolution2D(10, 2))\n",
        "model.add(Flatten())\n",
        "model.add(Activation('softmax'))\n",
        "model.summary()"
      ],
      "execution_count": 63,
      "outputs": [
        {
          "output_type": "stream",
          "text": [
            "/usr/local/lib/python3.6/dist-packages/ipykernel_launcher.py:3: UserWarning: Update your `Conv2D` call to the Keras 2 API: `Conv2D(8, (3, 3), activation=\"relu\", input_shape=(28, 28, 1...)`\n",
            "  This is separate from the ipykernel package so we can avoid doing imports until\n",
            "/usr/local/lib/python3.6/dist-packages/ipykernel_launcher.py:4: UserWarning: Update your `Conv2D` call to the Keras 2 API: `Conv2D(16, (3, 3), activation=\"relu\")`\n",
            "  after removing the cwd from sys.path.\n"
          ],
          "name": "stderr"
        },
        {
          "output_type": "stream",
          "text": [
            "_________________________________________________________________\n",
            "Layer (type)                 Output Shape              Param #   \n",
            "=================================================================\n",
            "conv2d_121 (Conv2D)          (None, 26, 26, 8)         80        \n",
            "_________________________________________________________________\n",
            "conv2d_122 (Conv2D)          (None, 24, 24, 16)        1168      \n",
            "_________________________________________________________________\n",
            "max_pooling2d_30 (MaxPooling (None, 12, 12, 16)        0         \n",
            "_________________________________________________________________\n",
            "conv2d_123 (Conv2D)          (None, 12, 12, 16)        272       \n",
            "_________________________________________________________________\n",
            "conv2d_124 (Conv2D)          (None, 10, 10, 24)        3480      \n",
            "_________________________________________________________________\n",
            "conv2d_125 (Conv2D)          (None, 8, 8, 32)          6944      \n",
            "_________________________________________________________________\n",
            "max_pooling2d_31 (MaxPooling (None, 4, 4, 32)          0         \n",
            "_________________________________________________________________\n",
            "conv2d_126 (Conv2D)          (None, 4, 4, 16)          528       \n",
            "_________________________________________________________________\n",
            "conv2d_127 (Conv2D)          (None, 2, 2, 32)          4640      \n",
            "_________________________________________________________________\n",
            "conv2d_128 (Conv2D)          (None, 1, 1, 10)          1290      \n",
            "_________________________________________________________________\n",
            "flatten_11 (Flatten)         (None, 10)                0         \n",
            "_________________________________________________________________\n",
            "activation_11 (Activation)   (None, 10)                0         \n",
            "=================================================================\n",
            "Total params: 18,402\n",
            "Trainable params: 18,402\n",
            "Non-trainable params: 0\n",
            "_________________________________________________________________\n"
          ],
          "name": "stdout"
        },
        {
          "output_type": "stream",
          "text": [
            "/usr/local/lib/python3.6/dist-packages/ipykernel_launcher.py:7: UserWarning: Update your `Conv2D` call to the Keras 2 API: `Conv2D(24, (3, 3), activation=\"relu\")`\n",
            "  import sys\n",
            "/usr/local/lib/python3.6/dist-packages/ipykernel_launcher.py:8: UserWarning: Update your `Conv2D` call to the Keras 2 API: `Conv2D(32, (3, 3), activation=\"relu\")`\n",
            "  \n",
            "/usr/local/lib/python3.6/dist-packages/ipykernel_launcher.py:11: UserWarning: Update your `Conv2D` call to the Keras 2 API: `Conv2D(32, (3, 3), activation=\"relu\")`\n",
            "  # This is added back by InteractiveShellApp.init_path()\n"
          ],
          "name": "stderr"
        }
      ]
    },
    {
      "cell_type": "code",
      "metadata": {
        "id": "cKOPQJo3WR0D",
        "colab_type": "code",
        "colab": {
          "base_uri": "https://localhost:8080/",
          "height": 1000
        },
        "outputId": "83946bc2-9ec1-47d0-f8cc-db9473adc13e"
      },
      "source": [
        "model.compile(loss='categorical_crossentropy',\n",
        "             optimizer='adam',\n",
        "             metrics=['accuracy'])\n",
        "model.fit(X_train, Y_train, batch_size=100, nb_epoch=30, verbose=1)"
      ],
      "execution_count": 64,
      "outputs": [
        {
          "output_type": "stream",
          "text": [
            "/usr/local/lib/python3.6/dist-packages/ipykernel_launcher.py:4: UserWarning: The `nb_epoch` argument in `fit` has been renamed `epochs`.\n",
            "  after removing the cwd from sys.path.\n"
          ],
          "name": "stderr"
        },
        {
          "output_type": "stream",
          "text": [
            "Epoch 1/30\n",
            "60000/60000 [==============================] - 5s 83us/step - loss: 0.3151 - acc: 0.8999\n",
            "Epoch 2/30\n",
            "60000/60000 [==============================] - 4s 60us/step - loss: 0.0806 - acc: 0.9751\n",
            "Epoch 3/30\n",
            "60000/60000 [==============================] - 4s 60us/step - loss: 0.0596 - acc: 0.9810\n",
            "Epoch 4/30\n",
            "60000/60000 [==============================] - 4s 60us/step - loss: 0.0486 - acc: 0.9850\n",
            "Epoch 5/30\n",
            "60000/60000 [==============================] - 4s 60us/step - loss: 0.0414 - acc: 0.9871\n",
            "Epoch 6/30\n",
            "60000/60000 [==============================] - 4s 60us/step - loss: 0.0365 - acc: 0.9887\n",
            "Epoch 7/30\n",
            "60000/60000 [==============================] - 4s 60us/step - loss: 0.0323 - acc: 0.9900\n",
            "Epoch 8/30\n",
            "60000/60000 [==============================] - 4s 60us/step - loss: 0.0295 - acc: 0.9907\n",
            "Epoch 9/30\n",
            "60000/60000 [==============================] - 4s 60us/step - loss: 0.0272 - acc: 0.9914\n",
            "Epoch 10/30\n",
            "60000/60000 [==============================] - 4s 60us/step - loss: 0.0234 - acc: 0.9930\n",
            "Epoch 11/30\n",
            "60000/60000 [==============================] - 4s 61us/step - loss: 0.0231 - acc: 0.9929\n",
            "Epoch 12/30\n",
            "60000/60000 [==============================] - 4s 61us/step - loss: 0.0187 - acc: 0.9940\n",
            "Epoch 13/30\n",
            "60000/60000 [==============================] - 4s 61us/step - loss: 0.0174 - acc: 0.9944\n",
            "Epoch 14/30\n",
            "60000/60000 [==============================] - 4s 60us/step - loss: 0.0168 - acc: 0.9943\n",
            "Epoch 15/30\n",
            "60000/60000 [==============================] - 4s 62us/step - loss: 0.0137 - acc: 0.9955\n",
            "Epoch 16/30\n",
            "60000/60000 [==============================] - 4s 61us/step - loss: 0.0125 - acc: 0.9958\n",
            "Epoch 17/30\n",
            "60000/60000 [==============================] - 4s 61us/step - loss: 0.0127 - acc: 0.9958\n",
            "Epoch 18/30\n",
            "60000/60000 [==============================] - 4s 61us/step - loss: 0.0123 - acc: 0.9959\n",
            "Epoch 19/30\n",
            "60000/60000 [==============================] - 4s 61us/step - loss: 0.0110 - acc: 0.9963\n",
            "Epoch 20/30\n",
            "60000/60000 [==============================] - 4s 60us/step - loss: 0.0107 - acc: 0.9964\n",
            "Epoch 21/30\n",
            "60000/60000 [==============================] - 4s 61us/step - loss: 0.0090 - acc: 0.9969\n",
            "Epoch 22/30\n",
            "60000/60000 [==============================] - 4s 61us/step - loss: 0.0091 - acc: 0.9967\n",
            "Epoch 23/30\n",
            "60000/60000 [==============================] - 4s 61us/step - loss: 0.0087 - acc: 0.9971\n",
            "Epoch 24/30\n",
            "60000/60000 [==============================] - 4s 61us/step - loss: 0.0080 - acc: 0.9973\n",
            "Epoch 25/30\n",
            "60000/60000 [==============================] - 4s 60us/step - loss: 0.0059 - acc: 0.9981\n",
            "Epoch 26/30\n",
            "60000/60000 [==============================] - 4s 60us/step - loss: 0.0089 - acc: 0.9967\n",
            "Epoch 27/30\n",
            "60000/60000 [==============================] - 4s 61us/step - loss: 0.0071 - acc: 0.9978\n",
            "Epoch 28/30\n",
            "60000/60000 [==============================] - 4s 60us/step - loss: 0.0071 - acc: 0.9979\n",
            "Epoch 29/30\n",
            "60000/60000 [==============================] - 4s 61us/step - loss: 0.0060 - acc: 0.9982\n",
            "Epoch 30/30\n",
            "60000/60000 [==============================] - 4s 60us/step - loss: 0.0062 - acc: 0.9979\n"
          ],
          "name": "stdout"
        },
        {
          "output_type": "execute_result",
          "data": {
            "text/plain": [
              "<keras.callbacks.History at 0x7f6d62715c50>"
            ]
          },
          "metadata": {
            "tags": []
          },
          "execution_count": 64
        }
      ]
    },
    {
      "cell_type": "code",
      "metadata": {
        "id": "k4p6BFiPWvzb",
        "colab_type": "code",
        "colab": {
          "base_uri": "https://localhost:8080/",
          "height": 34
        },
        "outputId": "9d48c639-3655-43dd-d186-70704b731ba0"
      },
      "source": [
        "score_train = model.evaluate(X_train, Y_train, verbose=0)\n",
        "score_test = model.evaluate(X_test, Y_test,verbose=0)\n",
        "print(\"Train Score: {} Test score: {}\".format(score_train,score_test))"
      ],
      "execution_count": 66,
      "outputs": [
        {
          "output_type": "stream",
          "text": [
            "Train Score: [0.005986161768271601, 0.9980666666666667] Test score: [0.0450400634635298, 0.9902]\n"
          ],
          "name": "stdout"
        }
      ]
    },
    {
      "cell_type": "code",
      "metadata": {
        "id": "CT--y98_dr2T",
        "colab_type": "code",
        "colab": {}
      },
      "source": [
        "layer_dict = dict([(layer.name, layer) for layer in model.layers])"
      ],
      "execution_count": 0,
      "outputs": []
    },
    {
      "cell_type": "code",
      "metadata": {
        "id": "U1Ub8ludX8w6",
        "colab_type": "code",
        "colab": {
          "base_uri": "https://localhost:8080/",
          "height": 202
        },
        "outputId": "08c358e1-82ec-4b32-f0d3-1c8c6f294fce"
      },
      "source": [
        "layer_dict"
      ],
      "execution_count": 75,
      "outputs": [
        {
          "output_type": "execute_result",
          "data": {
            "text/plain": [
              "{'activation_13': <keras.layers.core.Activation at 0x7f6d6145df28>,\n",
              " 'conv2d_149': <keras.layers.convolutional.Conv2D at 0x7f6d614c6400>,\n",
              " 'conv2d_150': <keras.layers.convolutional.Conv2D at 0x7f6d614c6470>,\n",
              " 'conv2d_151': <keras.layers.convolutional.Conv2D at 0x7f6d614c6780>,\n",
              " 'conv2d_152': <keras.layers.convolutional.Conv2D at 0x7f6d614c67b8>,\n",
              " 'conv2d_153': <keras.layers.convolutional.Conv2D at 0x7f6d614f47f0>,\n",
              " 'conv2d_154': <keras.layers.convolutional.Conv2D at 0x7f6d61487d68>,\n",
              " 'conv2d_155': <keras.layers.convolutional.Conv2D at 0x7f6d614b65f8>,\n",
              " 'flatten_13': <keras.layers.core.Flatten at 0x7f6d6145dba8>,\n",
              " 'max_pooling2d_37': <keras.layers.pooling.MaxPooling2D at 0x7f6d614f4438>,\n",
              " 'max_pooling2d_38': <keras.layers.pooling.MaxPooling2D at 0x7f6d614b6240>}"
            ]
          },
          "metadata": {
            "tags": []
          },
          "execution_count": 75
        }
      ]
    },
    {
      "cell_type": "code",
      "metadata": {
        "id": "2GY4Upv4dsUR",
        "colab_type": "code",
        "outputId": "3a2e0c8a-cafa-41dd-95af-a906d7d91393",
        "colab": {
          "base_uri": "https://localhost:8080/",
          "height": 839
        }
      },
      "source": [
        "import numpy as np\n",
        "from matplotlib import pyplot as plt\n",
        "from keras import backend as K\n",
        "%matplotlib inline\n",
        "# util function to convert a tensor into a valid image\n",
        "def deprocess_image(x):\n",
        "    # normalize tensor: center on 0., ensure std is 0.1\n",
        "    x -= x.mean()\n",
        "    x /= (x.std() + 1e-5)\n",
        "    x *= 0.1\n",
        "\n",
        "    # clip to [0, 1]\n",
        "    x += 0.5\n",
        "    x = np.clip(x, 0, 1)\n",
        "\n",
        "    # convert to RGB array\n",
        "    x *= 255\n",
        "    #x = x.transpose((1, 2, 0))\n",
        "    x = np.clip(x, 0, 255).astype('uint8')\n",
        "    return x\n",
        "\n",
        "def vis_img_in_filter(img = np.array(X_train[2]).reshape((1, 28, 28, 1)).astype(np.float64), \n",
        "                      layer_name = 'conv2d_14'):\n",
        "    layer_output = layer_dict[layer_name].output\n",
        "    img_ascs = list()\n",
        "    for filter_index in range(layer_output.shape[3]):\n",
        "        # build a loss function that maximizes the activation\n",
        "        # of the nth filter of the layer considered\n",
        "        loss = K.mean(layer_output[:, :, :, filter_index])\n",
        "\n",
        "        # compute the gradient of the input picture wrt this loss\n",
        "        grads = K.gradients(loss, model.input)[0]\n",
        "\n",
        "        # normalization trick: we normalize the gradient\n",
        "        grads /= (K.sqrt(K.mean(K.square(grads))) + 1e-5)\n",
        "\n",
        "        # this function returns the loss and grads given the input picture\n",
        "        iterate = K.function([model.input], [loss, grads])\n",
        "\n",
        "        # step size for gradient ascent\n",
        "        step = 5.\n",
        "\n",
        "        img_asc = np.array(img)\n",
        "        # run gradient ascent for 20 steps\n",
        "        for i in range(20):\n",
        "            loss_value, grads_value = iterate([img_asc])\n",
        "            img_asc += grads_value * step\n",
        "\n",
        "        img_asc = img_asc[0]\n",
        "        img_ascs.append(deprocess_image(img_asc).reshape((28, 28)))\n",
        "        \n",
        "    if layer_output.shape[3] >= 35:\n",
        "        plot_x, plot_y = 6, 6\n",
        "    elif layer_output.shape[3] >= 23:\n",
        "        plot_x, plot_y = 4, 6\n",
        "    elif layer_output.shape[3] >= 11:\n",
        "        plot_x, plot_y = 2, 6\n",
        "    else:\n",
        "        plot_x, plot_y = 1, 2\n",
        "    fig, ax = plt.subplots(plot_x, plot_y, figsize = (12, 12))\n",
        "    ax[0, 0].imshow(img.reshape((28, 28)), cmap = 'gray')\n",
        "    ax[0, 0].set_title('Input image')\n",
        "    fig.suptitle('Input image and %s filters' % (layer_name,))\n",
        "    fig.tight_layout(pad = 0.3, rect = [0, 0, 0.9, 0.9])\n",
        "    for (x, y) in [(i, j) for i in range(plot_x) for j in range(plot_y)]:\n",
        "        if x == 0 and y == 0:\n",
        "            continue\n",
        "        ax[x, y].imshow(img_ascs[x * plot_y + y - 1], cmap = 'gray')\n",
        "        ax[x, y].set_title('filter %d' % (x * plot_y + y - 1))\n",
        "\n",
        "vis_img_in_filter()"
      ],
      "execution_count": 0,
      "outputs": [
        {
          "output_type": "display_data",
          "data": {
            "image/png": "[encoded data removed]",
            "text/plain": [
              "<matplotlib.figure.Figure at 0x7fa5dc144e48>"
            ]
          },
          "metadata": {
            "tags": []
          }
        }
      ]
    },
    {
      "cell_type": "code",
      "metadata": {
        "id": "9tvptcn8dxvp",
        "colab_type": "code",
        "colab": {}
      },
      "source": [
        ""
      ],
      "execution_count": 0,
      "outputs": []
    }
  ]
}