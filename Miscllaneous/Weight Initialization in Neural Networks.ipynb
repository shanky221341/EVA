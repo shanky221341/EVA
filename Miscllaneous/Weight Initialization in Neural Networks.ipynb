{
 "cells": [
  {
   "cell_type": "code",
   "execution_count": 1,
   "metadata": {},
   "outputs": [],
   "source": [
    "import numpy as np\n",
    "import ipywidgets as widgets\n",
    "import hvplot.pandas\n",
    "import pandas as pd"
   ]
  },
  {
   "cell_type": "code",
   "execution_count": 6,
   "metadata": {},
   "outputs": [],
   "source": [
    "# assume some unit gaussian 10-D input data\n",
    "D=np.random.randn(1000,500)\n",
    "hidden_layer_sizes=[500]*10\n",
    "nonlinearities=['tanh']*len(hidden_layer_sizes)"
   ]
  },
  {
   "cell_type": "markdown",
   "metadata": {},
   "source": [
    "### Create interactive widget to show the effect of different weight initialization "
   ]
  },
  {
   "cell_type": "code",
   "execution_count": 338,
   "metadata": {},
   "outputs": [],
   "source": [
    "alpha=widgets.FloatSlider(\n",
    "    value=1,\n",
    "    min=0.01,\n",
    "    max=5,\n",
    "    step=0.01,\n",
    "    description='Alpha',\n",
    "    disabled=False,\n",
    "    continous_update=False\n",
    ")\n",
    "\n",
    "layers=widgets.IntSlider(\n",
    "    value=10,\n",
    "    min=1,\n",
    "    max=100,\n",
    "    step=1,\n",
    "    description='Layers',\n",
    "    disabled=False,\n",
    "    continous_update=False\n",
    ")\n",
    "\n",
    "activation=widgets.Dropdown(\n",
    "    options=[True,False],\n",
    "    value=False,\n",
    "    description='Activation',\n",
    "    disabled=False,\n",
    ")\n",
    "\n",
    "show_text=widgets.Dropdown(\n",
    "    options=[True,False],\n",
    "    value=False,\n",
    "    description='Show Text',\n",
    "    disabled=False,\n",
    ")\n",
    "\n",
    "show_graph=widgets.Dropdown(\n",
    "    options=[True,False],\n",
    "    value=False,\n",
    "    description='Show Graph',\n",
    "    disabled=False,\n",
    ")\n",
    "\n",
    "def show_layer_output(alpha,activation=True,number_of_layers=10,show_text=False,show_graph=False):\n",
    "    X=np.random.randn(1000, 500)\n",
    "    W={}\n",
    "    Hs={}\n",
    "    for i in range(number_of_layers):\n",
    "        W[i]=np.random.randn(500,500)*alpha\n",
    "    for i in range(number_of_layers):\n",
    "        H = np.dot(X,W[i]) # Matrix Multiply\n",
    "        if activation:\n",
    "            H=np.tanh(H)\n",
    "        Hs[i]=H\n",
    "        if show_text:\n",
    "            print(\"Layer {} mean:{} std:{}\".format(i,np.mean(H),np.std(H)))\n",
    "        X=H\n",
    "    if show_graph:    \n",
    "        layer_means = [np.mean(Hs[layer_number]) for layer_number in Hs.keys()]\n",
    "        layer_stds = [np.std(Hs[layer_number]) for layer_number in Hs.keys()]\n",
    "        layer_means_df=pd.DataFrame([Hs.keys(),layer_means]).T\n",
    "        layer_means_df.columns=['Layer Number','Mean']\n",
    "        layer_stds_df=pd.DataFrame([Hs.keys(),layer_stds]).T\n",
    "        layer_stds_df.columns=['Layer Number','Std']\n",
    "        fig1=layer_means_df.hvplot.scatter('Layer Number','Mean') * layer_means_df.hvplot.line('Layer Number','Mean',title='Mean of weights in different layers')+\\\n",
    "            layer_stds_df.hvplot.scatter('Layer Number','Std') * layer_stds_df.hvplot.line('Layer Number','Std',title='Standard deviation of weights in different layers')\n",
    "\n",
    "        fig2=pd.DataFrame(Hs[0].ravel()).hvplot.hist(title='Layer1',width=180)\n",
    "        for i in range(1,number_of_layers):\n",
    "            fig2=fig2+pd.DataFrame(Hs[i].ravel()).hvplot.hist(title='Layer'+str(i+1),width=180)\n",
    "        display(fig1)\n",
    "        display(fig2)\n",
    "    \n",
    "outdata = widgets.interactive_output(show_layer_output,{'alpha': alpha,'activation':activation,'number_of_layers':layers,\n",
    "                                                       'show_text':show_text,'show_graph':show_graph})"
   ]
  },
  {
   "cell_type": "code",
   "execution_count": 339,
   "metadata": {},
   "outputs": [],
   "source": [
    "p_set0=widgets.VBox([alpha,activation,layers,show_text,show_graph])\n",
    "p_set1=widgets.HBox([p_set0,outdata])"
   ]
  },
  {
   "cell_type": "markdown",
   "metadata": {},
   "source": [
    "### Have a look at below widget carefully!!!. We are taking 10 layer Neural Network. Pre initializing weights for all layers and also input data. Input data is 1000 data points with 500 dimensions. We are mulitplying input from Input Layer 1 to weight matrix of hidden layer 1 and then it goes to second layer as input and so on. The thing to notice here is the outputs at each layer is getting very big from one layer to another.\n",
    "\n",
    "Play with making activation true or False. Activation function here is Tanh"
   ]
  },
  {
   "cell_type": "code",
   "execution_count": 340,
   "metadata": {},
   "outputs": [
    {
     "name": "stdout",
     "output_type": "stream",
     "text": [
      "Play with this widget to see the effect of setting activation to True or False. And changing the multiplication factor alpha on the randomly initialized weight matrix:\n",
      "\n"
     ]
    },
    {
     "data": {
      "application/vnd.jupyter.widget-view+json": {
       "model_id": "824651642c1f4bc587f0bd9195a39827",
       "version_major": 2,
       "version_minor": 0
      },
      "text/plain": [
       "HBox(children=(VBox(children=(FloatSlider(value=1.0, description='Alpha', max=5.0, min=0.01, step=0.01), Dropd…"
      ]
     },
     "metadata": {},
     "output_type": "display_data"
    }
   ],
   "source": [
    "print(\"\"\"Play with this widget to see the effect of setting activation to True or False. And changing the multiplication factor alpha on the randomly initialized weight matrix:\\n\"\"\")\n",
    "p_set1"
   ]
  },
  {
   "cell_type": "code",
   "execution_count": 366,
   "metadata": {},
   "outputs": [
    {
     "data": {
      "application/vnd.jupyter.widget-view+json": {
       "model_id": "85b0c8fb4f1b426fba9afb864f258413",
       "version_major": 2,
       "version_minor": 0
      },
      "text/plain": [
       "FloatSlider(value=0.01, description='Alpha', max=5.0, min=0.01, step=0.01)"
      ]
     },
     "metadata": {},
     "output_type": "display_data"
    }
   ],
   "source": [
    "alpha"
   ]
  },
  {
   "cell_type": "code",
   "execution_count": 335,
   "metadata": {},
   "outputs": [],
   "source": [
    "act = {'relu':lambda x : np.maximum(0,x),'tanh':lambda x:np.tanh(x)}\n",
    "Hs={}\n",
    "for i in range(len(hidden_layer_sizes)):\n",
    "    X=D if i ==0 else Hs[i-1]\n",
    "    fan_in = X.shape[1]\n",
    "    fan_out = hidden_layer_sizes[i]\n",
    "    W = np.random.randn(fan_in, fan_out) * 1\n",
    "    H = np.dot(X,W) # Matrix Multiply\n",
    "    H = act[nonlinearities[i]](H)\n",
    "    Hs[i]=H"
   ]
  },
  {
   "cell_type": "markdown",
   "metadata": {},
   "source": [
    "### As we can see below the standard deviation becomes zero as the number of layers increase. This is due to the way we are initializing our weights at each layer"
   ]
  },
  {
   "cell_type": "code",
   "execution_count": 336,
   "metadata": {},
   "outputs": [
    {
     "name": "stdout",
     "output_type": "stream",
     "text": [
      "Input layer had mean 0.0005198245195148858 and std 0.9995905932488534\n",
      "Hidden layer 1 had mean -0.00177 and std 0.98193\n",
      "Hidden layer 2 had mean 0.0015 and std 0.98159\n",
      "Hidden layer 3 had mean -0.00129 and std 0.98169\n",
      "Hidden layer 4 had mean -0.0003 and std 0.98172\n",
      "Hidden layer 5 had mean 0.00138 and std 0.98167\n",
      "Hidden layer 6 had mean -0.00209 and std 0.98165\n",
      "Hidden layer 7 had mean 4e-05 and std 0.98166\n",
      "Hidden layer 8 had mean -0.00161 and std 0.98167\n",
      "Hidden layer 9 had mean -0.00229 and std 0.98161\n",
      "Hidden layer 10 had mean 0.00175 and std 0.9817\n"
     ]
    }
   ],
   "source": [
    "print(\"Input layer had mean {} and std {}\".format(np.mean(D),np.std(D)))\n",
    "layer_means = [np.mean(Hs[layer_number]) for layer_number in Hs.keys()]\n",
    "layer_stds = [np.std(Hs[layer_number]) for layer_number in Hs.keys()]\n",
    "for i in Hs.keys():\n",
    "    print(\"Hidden layer {} had mean {} and std {}\".format(i+1,np.round(layer_means[i],5),np.round(layer_stds[i],5)))"
   ]
  },
  {
   "cell_type": "code",
   "execution_count": 337,
   "metadata": {},
   "outputs": [
    {
     "data": {
      "image/png": "[encoded data removed]",
      "text/plain": [
       "<Figure size 432x288 with 2 Axes>"
      ]
     },
     "metadata": {
      "needs_background": "light"
     },
     "output_type": "display_data"
    },
    {
     "data": {
      "image/png": "[encoded data removed]",
      "text/plain": [
       "<Figure size 432x288 with 10 Axes>"
      ]
     },
     "metadata": {
      "needs_background": "light"
     },
     "output_type": "display_data"
    }
   ],
   "source": [
    "import matplotlib.pyplot as plt\n",
    "plt.figure()\n",
    "plt.subplot(121)\n",
    "plt.plot(Hs.keys(),layer_means,'ob-')\n",
    "plt.title('Layer Mean')\n",
    "plt.subplot(122)\n",
    "plt.plot(Hs.keys(),layer_stds,'or-')\n",
    "plt.title('Layer std')\n",
    "\n",
    "plt.figure()\n",
    "for key in Hs.keys():\n",
    "    plt.subplot(1,len(Hs),key+1)\n",
    "    plt.hist(Hs[key].ravel(),30,range=[-1,1])"
   ]
  }
 ],
 "metadata": {
  "kernelspec": {
   "display_name": "Python 3",
   "language": "python",
   "name": "python3"
  },
  "language_info": {
   "codemirror_mode": {
    "name": "ipython",
    "version": 3
   },
   "file_extension": ".py",
   "mimetype": "text/x-python",
   "name": "python",
   "nbconvert_exporter": "python",
   "pygments_lexer": "ipython3",
   "version": "3.6.8"
  }
 },
 "nbformat": 4,
 "nbformat_minor": 2
}
